{
 "cells": [
  {
   "cell_type": "markdown",
   "metadata": {
    "id": "TYj8JqrtqkHZ"
   },
   "source": [
    "# 1. Crawler\n",
    "\n",
    "## 1.0. Related example\n",
    "\n",
    "This code shows `wget`-like tool written in python. Run it from console (`python wget.py`), make it work. Check the code, reuse, and modify for your needs."
   ]
  },
  {
   "cell_type": "code",
   "execution_count": null,
   "metadata": {
    "id": "nCQJWsL-qkHb"
   },
   "outputs": [],
   "source": [
    "import argparse\n",
    "import os\n",
    "import re\n",
    "import requests\n",
    "import hashlib\n",
    "\n",
    "\n",
    "def wget(url, filename):\n",
    "    # allow redirects - in case file is relocated\n",
    "    resp = requests.get(url, allow_redirects=True)\n",
    "    # this can also be 2xx, but for simplicity now we stick to 200\n",
    "    # you can also check for `resp.ok`\n",
    "    if resp.status_code != 200:\n",
    "        print(resp.status_code, resp.reason, 'for', url)\n",
    "        return\n",
    "\n",
    "    # just to be cool and print something\n",
    "    print(*[f\"{key}: {value}\" for key, value in resp.headers.items()], sep='\\n')\n",
    "    print()\n",
    "\n",
    "    # try to extract filename from url\n",
    "    if filename is None:\n",
    "        # start with http*, ends if ? or # appears (or none of)\n",
    "        m = re.search(\"^http.*/([^/\\?#]*)[\\?#]?\", url)\n",
    "        filename = m.group(1)\n",
    "        if not filename:\n",
    "            filename = hashlib.sha256(url.encode()).hexdigest()\n",
    "            # raise NameError(f\"Filename neither given, nor found for {url}\")\n",
    "\n",
    "    # what will you do in case 2 websites store file with the same name?\n",
    "    if os.path.exists(filename):\n",
    "        filename = hashlib.sha256(filename.encode()).hexdigest()\n",
    "        # raise OSError(f\"File {filename} already exists\")\n",
    "\n",
    "    with open(filename, 'wb') as f:\n",
    "        f.write(resp.content)\n",
    "        print(f\"File saved as {filename}\")\n",
    "\n",
    "\n",
    "if __name__ == \"__main__\":\n",
    "    parser = argparse.ArgumentParser(description='download file.')\n",
    "    parser.add_argument(\"-O\", type=str, default=None, dest='filename',\n",
    "                        help=\"output file name. Default -- taken from resource\")\n",
    "    parser.add_argument(\"url\", type=str, default=None, help=\"Provide URL here\")\n",
    "    args = parser.parse_args()\n",
    "    wget(args.url, args.filename)\n"
   ]
  },
  {
   "cell_type": "markdown",
   "metadata": {
    "id": "5N5l9-0OqkHc"
   },
   "source": [
    "### 1.0.1. How to parse a page?\n",
    "\n",
    "If you build a crawler, you might follow one of the approaches:\n",
    "1. search for URLs in the page, assuming this is just a text.\n",
    "2. search for URLs in the places where URLs should appear: `<a href=..`, `<img src=...`, `<iframe src=...` and so on.\n",
    "\n",
    "To follow the first approach you can rely on some good regular expression. [Like this](https://stackoverflow.com/a/3809435).\n",
    "\n",
    "To follow the second approach just read one of these: [short answer](https://stackoverflow.com/questions/1080411/retrieve-links-from-web-page-using-python-and-beautifulsoup) or [exhaustive explanation](https://hackersandslackers.com/scraping-urls-with-beautifulsoup/)."
   ]
  },
  {
   "cell_type": "markdown",
   "metadata": {
    "id": "pvIby3tRqkHd"
   },
   "source": [
    "## 1.1. [10] Download and persist #\n",
    "Please complete a code for `load()`, `download()` and `persist()` methods of `Document` class. What they do:\n",
    "- for a given URL `download()` method downloads binary data and stores in `self.content`. It returns `True` for success, else `False`.\n",
    "- `persist()` method saves `self.content` somewhere in file system. We do it to avoid multiple downloads (for caching in other words).\n",
    "- `load()` method loads data from hard drive. Returns `True` for success.\n",
    "\n",
    "Tests checks that your code somehow works.\n",
    "\n",
    "**NB Passing the test doesn't mean you correctly completed the task.** These are **criteria, which have to be fullfilled**:\n",
    "1. URL is a unique identifier (as it is a subset of URI). Thus, documents with different URLs should be stored in different files. Typical errors: documents from the same domain are overwritten to the same file, URLs with similar endings are downloaded to the same file, etc.\n",
    "2. The document can be not only a text file, but also a binary. Pay attention that if you download `mp3` file, it still can be played. Hint: don't hurry to convert everything to text."
   ]
  },
  {
   "cell_type": "code",
   "execution_count": 1,
   "metadata": {
    "id": "2n8-imQMqkHd",
    "ExecuteTime": {
     "end_time": "2023-09-06T12:01:05.397570980Z",
     "start_time": "2023-09-06T12:01:05.355394829Z"
    }
   },
   "outputs": [],
   "source": [
    "from os.path import exists\n",
    "import requests\n",
    "from urllib.parse import quote\n",
    "import hashlib\n",
    "\n",
    "\n",
    "class Document:\n",
    "\n",
    "    def __init__(self, url):\n",
    "        self.url = url\n",
    "        self.content = None\n",
    "\n",
    "    def get(self):\n",
    "        if not self.load():\n",
    "            if not self.download():\n",
    "                raise FileNotFoundError(self.url)\n",
    "            else:\n",
    "                self.persist()\n",
    "\n",
    "    def download(self):\n",
    "        #TODO download self.url content, store it in self.content and return True in case of success\n",
    "        response = requests.get(self.url, allow_redirects=True)\n",
    "        if response.status_code != requests.codes.ok:\n",
    "            return False\n",
    "        if response.content is None:\n",
    "            return False\n",
    "        self.content = response.content\n",
    "        return True\n",
    "\n",
    "    def persist(self):\n",
    "        #TODO write document content to hard drive\n",
    "        filename = hashlib.sha256(self.url.encode()).hexdigest()\n",
    "        with open(filename, 'wb') as f:\n",
    "            f.write(self.content)\n",
    "\n",
    "    def load(self):\n",
    "        #TODO load content from hard drive, store it in self.content and return True in case of success\n",
    "        filename = hashlib.sha256(self.url.encode()).hexdigest()\n",
    "        if not exists(filename):\n",
    "            return False\n",
    "        with open(filename, 'rb') as f:\n",
    "            self.content = f.read()\n",
    "        return True"
   ]
  },
  {
   "cell_type": "markdown",
   "metadata": {
    "id": "mI9zUoLQqkHd"
   },
   "source": [
    "### 1.1.1. Tests ###"
   ]
  },
  {
   "cell_type": "code",
   "execution_count": 3,
   "metadata": {
    "id": "Loo2ayKKqkHd",
    "ExecuteTime": {
     "end_time": "2023-09-06T12:02:00.244084419Z",
     "start_time": "2023-09-06T12:02:00.186634609Z"
    }
   },
   "outputs": [
    {
     "name": "stdout",
     "output_type": "stream",
     "text": [
      "b'1. If you somehow found a way to extract all of the gold from the bubbling core of our lovely little planet, you would be able to cover all of the land in a layer of gold up to your knees.\\n2. McDonalds calls frequent buyers of their food \"heavy users.\"\\n3. The average person spends 6 months of their lifetime waiting on a red light to turn green.\\n4. The largest recorded snowflake was in Keogh, MT during year 1887, and was 15 inches wide.\\n5. You burn more calories sleeping than you do watching television.\\n6. There are more lifeforms living on your skin than there are people on the planet.\\n7. Southern sea otters have flaps of skin under their forelegs that act as pockets. When diving, they use these pouches to store rocks and food.\\n8. In 1386 a pig in France was executed by public hanging for the murder of a child.\\n9. One in every five adults believe that aliens are hiding in our planet disguised as humans.\\n10. If you believe that you\\'re truly one in a million, there are still approximately 7,184 more people out there just like you.\\n11. A single cloud can weight more than 1 million pounds.\\n12. A human will eat on average 70 assorted insects and 10 spiders while sleeping.\\n13. James Buchanan, the 15th U.S. president continuously bought slaves with his own money in order to free them.\\n14. There are more possible iterations of a game of chess than there are atoms in the known universe.\\n15. The average person walks the equivalent of three times around the world in a lifetime.\\n16. Men are 6 times more likely to be struck by lightning than women.\\n17. Coca-Cola would be green if coloring wasn\\'t added to it.\\n18. You cannot snore and dream at the same time.\\n19. The world\\'s oldest piece of chewing gum is over 9,000 years old!\\n20. A coyote can hear a mouse moving underneath a foot of snow.\\n21. Bolts of lightning can shoot out of an erupting volcano.\\n22. New York drifts about one inch farther away from London each year.\\n23. A U.S. dollar bill can be folded approximately 4,000 times in the same place before it will tear.\\n24. A sneeze travels about 100 miles per hour.\\n21. Earth has traveled more than 5,000 miles in the past 5 minutes.\\n22. It would take a sloth one month to travel one mile.\\n23. 10% of the World\\'s population is left handed.\\n24. A broken clock is right two times every day.\\n25. According to Amazon, the most highlighted books on Kindle are the Bible, the Steve Jobs biography, and The Hunger Games.\\n26. Bob Marley\\'s last words to his son before he died were \"Money can\\'t buy life.\"\\n27. A mole can dig a tunnel that is 300 feet long in only one night.\\n28. A hippo\\'s wide open mouth is big enough to fit a 4-foot-tall child in.\\n29. Chewing gum while you cut an onion will help keep you from crying.\\n30. If you were to stretch a Slinky out until it\\'s flat, it would measure 87 feet long.\\n31. Al Capone\\'s business card said he was a used furniture dealer\\n32. There are more collect calls on Father\\'s Day than on any other day of the year.\\n33. Banging your head against a wall burns 150 calories an hour.\\n34. 95% of people text things they could never say in person.\\n35. A crocodile can\\'t poke its tongue out.\\n36. It is physically impossible for pigs to look up into the sky.\\n37. Guinness Book of Records holds the record for being the book most often stolen from Public Libraries.\\n38. Drying fruit depletes it of 30-80% of its vitamin and antioxidant content\\n39. A 2010 study found that 48% of soda fountain contained fecal bacteria, and 11% contained E. Coli.\\n40. 9 out of 10 Americans are deficient in Potassium.\\n41. Blueberries will not ripen until they are picked.\\n42. About 150 people per year are killed by coconuts.\\n43. Ketchup was used as a medicine back in the 1930\\'s.\\n44. Honey never spoils.\\n45. About half of all Americans are on a diet on any given day.\\n46. A hardboiled egg will spin, but a soft-boiled egg will not.\\n47. Avocados are poisonous to birds.\\n48. Chewing gum burns about 11 calories per hour.\\n49. The number of animals killed for meat every hour in the U.S. is 500,000.\\n50. If you try to suppress a sneeze, you can rupture a blood vessel in your head or neck and die.\\n51. Celery has negative calories! It takes more calories to eat a piece of celery than the celery has in it to begin with. It\\'s the same with apples!\\n52. More people are allergic to cow\\'s milk than any other food.\\n53. Only 8% of dieters will follow a restrictive weight loss plan (such as hCG Drops diet, garcinia cambogia diet, etc.)\\n54. Coconut water can be used as blood plasma.\\n55. The word \"gorilla\" is derived from a Greek word meaning, \"A tribe of hairy women.\"\\n56. Prisoners in Canadian war camps during WWII were treated so well, that a lot of them didn\\'t\\' want to leave when the war was over.\\n57. Gorillas burp when they are happy\\n58. In New York, it is illegal to sell a haunted house without telling the buyer.\\n59. In 2006 someone tried to sell New Zealand on eBay. The price got up to $3,000 before eBay shut it down.\\n60. It is considered good luck in Japan when a sumo wrestler makes your baby cry.\\n61. A man from Britain changed his name to Tim Pppppppppprice to make it harder for telemarketers to pronounce.\\n62. A woman from California once tried to sue the makers of Cap\\'n Crunch, because the Crunch Berries contained \"no berries of any kind.\"\\n63. Apple launched a clothing line in 1986. It was described as a \"train wreck\" by others.\\n64. In Japan, crooked teeth are considered cute and attractive.\\n65. A Swedish woman lost her wedding ring, and found it 16 years later- growing on a carrot in her garden.\\n66. Donald duck comics were banned from Finland because he doesn\\'t wear pants.\\n67. The chance of you dying on the way to get lottery tickets is actually greater than your chance of winning.\\n68. Cherophobia is the fear of fun.\\n69. The toothpaste \"Colgate\" in Spanish translates to \"go hang yourself\"\\n70. Pirates wore earrings because they believed it improved their eyesight.\\n71. Human thigh bones are stronger than concrete.\\n72. Cockroaches can live for several weeks with their heads cut off, because their brains are located inside their body. They would eventually die from being unable to eat.\\n73. Scientists have tracked butterflies that travel over 3,000 miles.\\n74. To produce a single pound of honey, a single bee would have to visit 2 million flowers.\\n75. The population is expected to rise to 10.8 billion by the year 2080.\\n76. You breathe on average about 8,409,600 times a year\\n77. More than 60,000 people are flying over the United States in an airplane right now.\\n78. Hamsters run up to 8 miles at night on a wheel.\\n79. A waterfall in Hawaii goes up sometimes instead of down.\\n80. A church in the Czech Republic has a chandelier made entirely of human bones.\\n81. Under the Code of Hammurabi, bartenders who watered down beer were punished by execution.\\n82. Our eyes are always the same size from birth, but our nose and ears never stop growing.\\n83. During your lifetime, you will produce enough saliva to fill two swimming pools.\\n84. You are 1% shorter in the evening than in the morning\\n85. The elephant is the only mammal that can\\'t jump!\\n86. Most dust particles in your house are made from dead skin!\\n87. If 33 million people held hands, they could make it all the way around the equator.\\n88. Earth is the only planet that is not named after a god.\\n89. The bloodhound is the only animal whose evidence is admissible in court.\\n90. You are born with 300 bones, but by the time you are an adult you only have 206.\\n91. A ten-gallon hat will only hold 3/4 of a gallon.\\n92. Just like fingerprints, everyone has different tongue prints.\\n93. ATM\\'s were originally thought to be failures, because the only users were prostitutes and gamblers who didn\\'t want to deal with tellers face to face.\\n94. Of all the words in the English language, the word \"set\" has the most definitions. The word \"run\" comes in close second.\\n95. A \"jiffy\" is the scientific name for 1/100th of a second.\\n96. One fourth of the bones in your body are located in your feet\\n97. 111,111,111 X 111,111,111 = 12,345,678,987,654,321\\n98. Blue-eyed people tend to have the highest tolerance of alcohol.\\n99. A traffic jam lasted for more than 10 days, with cars only moving 0.6 miles a day.\\n100. The tongue is the strongest muscle in the body.\\n101. Every year more than 2500 left-handed people are killed from using right-handed products.\\n102. More than 50% of the people in the world have never made or received a telephone call.\\n103. The cigarette lighter was invented before the match.\\n104. Sea otters hold hands when they sleep so that they do not drift apart.\\n105. The Golden Poison Dart Frog\\'s skin has enough toxins to kill 100 people.\\n106. The male ostrich can roar just like a lion.\\n107. Mountain lions can whistle.\\n108. The giraffe\\'s tongue is so long that they can lick the inside of their own ear.\\n109. Cows kill more people than sharks do.\\n110. Cats have 32 muscles in each of their ears.\\n111. Butterflies taste their food with their feet.\\n112. A tarantula can live without food for more than two years.\\n113. The tongue of a blue whale weighs more than most elephants!\\n114. Ever wonder where the phrase \"It\\'s raining cats and dogs\" comes from? In the 17th century many homeless cats and dogs would drown and float down the streets of England, making it look like it literally rained cats and dogs.\\n115. It takes about 3,000 cows to supply enough leather for the NFL for only one year.\\n116. Male dogs lift their legs when they are urinating for a reason. They are trying to leave their mark higher so that it gives off the message that they are tall and intimidating.\\n117. A hummingbird weighs less than a penny.\\n118. An ostrich\\'s eye is bigger than its brain\\n119. Dogs are capable of understanding up to 250 words and gestures and have demonstrated the ability to do simple mathematical calculations.\\n120. A sheep, a duck and a rooster were the first passengers in a hot air balloon.\\n121. Birds don\\'t urinate.\\n122. A flea can jump up to 200 times its own height. That is the equivalent of a human jumping the Empire State Building.\\n123. There are 5 temples in Kyoto, Japan that have blood stained ceilings. The ceilings are made from the floorboards of a castle where warriors killed themselves after a long hold-off against an army. To this day, you can still see the outlines and footprints.\\n124. There is a snake, called the boomslang, whose venom causes you to bleed out from every orifice on your body. You may even turn blue from internal bleeding, and it can take up to 5 days to die from the bleeding.\\n125. A ball of glass will bounce higher than a ball of rubber.\\n126. Saturn\\'s density is low enough that the planet would float in water.\\n127. 68% of the universe is dark energy, and 27% is dark matter; both are invisible, even with our powerful telescopes. This means we have only seen 5% of the universe from earth.\\n128. The founders of Google were willing to sell Google for $1 million to Excite in 1999, but Excite turned them down. Google is now worth $527 Billion.\\n129. In the past 20 years, scientists have found over 1,000 planets outside of our solar system.\\n130. There are 60,000 miles of blood vessels in the human body.\\n131. If a pregnant woman has organ damage, the baby in her womb sends stem cells to help repair the organ.\\n132. If you started with $0.01 and doubled your money every day, it would take 27 days to become a millionaire.\\n133. Only one person in two billion will live to be 116 or older.\\n134. A person can live without food for about a month, but only about a week without water. If the amount of water in your body is reduced by just 1%, you\\'ll feel thirsty. If it\\'s reduced by 10%, you\\'ll die.\\n135. On average, 12 newborns will be given to the wrong parents daily.\\n136. You can\\'t kill yourself by holding your breath.\\n137. Human birth control pills work on gorillas.\\n138. There are no clocks in Las Vegas gambling casinos.\\n139. Beetles taste like apples, wasps like pine nuts, and worms like fried bacon.\\n140. What is called a \"French kiss\" in the English-speaking world is known as an \"English kiss\" in France.\\n141. Months that begin on a Sunday will always have a \"Friday the 13th.\"\\n142. The placement of a donkey\\'s eyes in its\\' heads enables it to see all four feet at all times!\\n143. Some worms will eat themselves if they can\\'t find any food!\\n144. Dolphins sleep with one eye open!\\n145. It is impossible to sneeze with your eyes open.\\n146. In France, it is legal to marry a dead person.\\n147. Russia has a larger surface area than Pluto.\\n148. There\\'s an opera house on the U.S.-Canada border where the stage is in one country and half the audience is in another.\\n149. The harder you concentrate on falling asleep, the less likely to fall asleep.\\n150. You can\\'t hum while holding your nose closed.\\n151. Women have twice as many pain receptors on their body than men. But a much higher pain tolerance.\\n152. There are more stars in space than there are grains of sand on every beach in the world.\\n153. For every human on Earth there are 1.6 million ants.\\n154. The total weight of all those ants, however, is about the same as all the humans.\\n155. On Jupiter and Saturn it rains diamonds.'\n"
     ]
    }
   ],
   "source": [
    "doc = Document('https://github.com/YusufRoshdy/information-retrieval/raw/main/datasets/facts.txt')\n",
    "\n",
    "doc.get()\n",
    "assert doc.content, \"Document download failed\"\n",
    "assert \"You breathe on average about 8,409,600 times a year\" in str(doc.content), \"Document content error\"\n",
    "\n",
    "doc.get()\n",
    "assert doc.load(), \"Load should return true for saved document\"\n",
    "assert \"You breathe on average about 8,409,600 times a year\" in str(doc.content), \"Document load from disk error\""
   ]
  },
  {
   "cell_type": "markdown",
   "metadata": {
    "id": "ef37KNL2qkHe"
   },
   "source": [
    "## 1.2. [10] Parse HTML\n",
    "`BeautifulSoap` library is a de facto standard to parse XML and HTML documents in python. Use it to complete `parse()` method that extracts document contents. You should initialize:\n",
    "1. `self.anchors` list of tuples `('text', 'url')` met in a document. Be aware, there exist relative links (e.g. `../content/pic.jpg`). Use `urllib.parse.urljoin()` to fix this issue.\n",
    "2. `self.images` list of images met in a document. Again, links can be relative to current page.\n",
    "3. `self.text` should keep plain text of the document without scripts, tags, comments and so on. You can refer to [this stackoverflow answer](https://stackoverflow.com/a/1983219) for details.\n",
    "\n",
    "**NB All these 3 criteria must be fulfilled to get full point for the task.**"
   ]
  },
  {
   "cell_type": "code",
   "execution_count": 16,
   "metadata": {
    "id": "U38KF0ZjqkHe",
    "ExecuteTime": {
     "end_time": "2023-09-06T13:02:09.383643326Z",
     "start_time": "2023-09-06T13:02:09.364208260Z"
    }
   },
   "outputs": [],
   "source": [
    "from bs4 import BeautifulSoup\n",
    "from bs4.element import Comment\n",
    "import urllib.parse\n",
    "\n",
    "\n",
    "class HtmlDocument(Document):\n",
    "\n",
    "    def parse(self):\n",
    "        #TODO extract plain text, images and links from the document\n",
    "        self.get()\n",
    "        soup = BeautifulSoup(self.content, 'html.parser')\n",
    "\n",
    "        links = soup.find_all('a', href=True)\n",
    "        self.anchors = [(a.text.strip(), urllib.parse.urljoin(self.url, a['href'].strip())) for a in links]\n",
    "\n",
    "        images = soup.find_all('img')\n",
    "        self.images = [urllib.parse.urljoin(self.url, img['src'].strip()) for img in images]\n",
    "\n",
    "        def tag_visible(element):\n",
    "            if element.parent.name in ['style', 'script', 'head', 'title', 'meta', '[document]']:\n",
    "                return False\n",
    "            if isinstance(element, Comment):\n",
    "                return False\n",
    "            return True\n",
    "\n",
    "        visible_texts = filter(tag_visible, soup.findAll(string=True))\n",
    "        self.text = \" \".join(t.strip() for t in visible_texts)\n"
   ]
  },
  {
   "cell_type": "markdown",
   "metadata": {
    "id": "XP5zdm3kqkHe"
   },
   "source": [
    "### 1.2.1. Tests"
   ]
  },
  {
   "cell_type": "code",
   "execution_count": 17,
   "metadata": {
    "id": "EWjZSnU8qkHe",
    "ExecuteTime": {
     "end_time": "2023-09-06T13:02:13.097536618Z",
     "start_time": "2023-09-06T13:02:12.992417297Z"
    }
   },
   "outputs": [
    {
     "name": "stderr",
     "output_type": "stream",
     "text": [
      "/tmp/ipykernel_10072/1781702317.py:26: DeprecationWarning: The 'text' argument to find()-type methods is deprecated. Use 'string' instead.\n",
      "  visible_texts = filter(tag_visible, soup.findAll(text=True))\n"
     ]
    }
   ],
   "source": [
    "doc = HtmlDocument(\"https://innopolis.university/en/\")\n",
    "doc.get()\n",
    "doc.parse()\n",
    "\n",
    "assert \"Education, research and development\" in doc.text, \"Error parsing text\"\n",
    "assert \"https://innopolis.university/upload/resize_cache/iblock/e5c/510_340_2/deadline_extended.jpg\" in doc.images, \"Error parsing images\"\n",
    "assert any(p[1] == \"https://innopolis.university/en/faculty/\" for p in doc.anchors), \"Error parsing links\""
   ]
  },
  {
   "cell_type": "markdown",
   "metadata": {
    "id": "Who0bIq0qkHe"
   },
   "source": [
    "## 1.3. [10] Document analysis ##\n",
    "Complete the code for `HtmlDocumentTextData` class. Implement word and sentence splitting (use any method you can propose).\n",
    "\n",
    "**Criteria to succeed in the task**:\n",
    "1. Your `get_word_stats()` method should return `Counter` object.\n",
    "2. Don't forget to lowercase your words for counting.\n",
    "3. Sentences should be obtained from inside `<body>` tag only."
   ]
  },
  {
   "cell_type": "code",
   "execution_count": 30,
   "metadata": {
    "id": "XY2xa_e3qkHe"
   },
   "outputs": [],
   "source": [
    "from collections import Counter\n",
    "\n",
    "\n",
    "class HtmlDocumentTextData:\n",
    "\n",
    "    def __init__(self, url):\n",
    "        self.doc = HtmlDocument(url)\n",
    "        self.doc.get()\n",
    "        self.doc.parse()\n",
    "\n",
    "    def get_sentences(self):\n",
    "        #TODO implement sentence parser\n",
    "        result = []\n",
    "        return result\n",
    "\n",
    "    def get_word_stats(self):\n",
    "        #TODO return Counter object of the document, containing mapping {`word` -> count_in_doc}\n",
    "        return Counter()"
   ]
  },
  {
   "cell_type": "markdown",
   "metadata": {
    "id": "EQ8a7n94qkHf"
   },
   "source": [
    "### 1.3.1. Tests ###"
   ]
  },
  {
   "cell_type": "code",
   "execution_count": null,
   "metadata": {
    "id": "hz6aqgH7qkHf"
   },
   "outputs": [],
   "source": [
    "doc = HtmlDocumentTextData(\"https://innopolis.university/en\")\n",
    "\n",
    "print(doc.get_word_stats().most_common(10))\n",
    "assert [x for x in doc.get_word_stats().most_common(10) if x[0] == 'innopolis'], 'innopolis should be among most common'"
   ]
  },
  {
   "cell_type": "markdown",
   "metadata": {
    "id": "FiQy0CkQtppS"
   },
   "source": [
    "## 1.4 [10] Account the caching policy\n",
    "Sometimes remote documents (especially when we speak about static content like `js` or `gif`) can swear that they will not change for some time. This is done by setting [Cache-Control response header](https://developer.mozilla.org/en-US/docs/Web/HTTP/Headers/Cache-Control)."
   ]
  },
  {
   "cell_type": "code",
   "execution_count": null,
   "metadata": {
    "id": "Rnbq9VoBtVNI"
   },
   "outputs": [],
   "source": [
    "import requests\n",
    "\n",
    "requests.get('https://polyfill.io/v3/polyfill.min.js').headers['Cache-Control']"
   ]
  },
  {
   "cell_type": "markdown",
   "metadata": {
    "id": "hTJMOPu5uLkJ"
   },
   "source": [
    "Please study the documentation and implement a descendant to a Document class, which will refresh the document in case of expired cache even if the file is already on the hard drive."
   ]
  },
  {
   "cell_type": "code",
   "execution_count": 38,
   "metadata": {
    "id": "wqB-jm0jtx2C"
   },
   "outputs": [],
   "source": [
    "class CachedDocument(Document):\n",
    "    # TODO your code here\n",
    "    pass"
   ]
  },
  {
   "cell_type": "markdown",
   "metadata": {
    "id": "P84vqtE9uQkJ"
   },
   "source": [
    "### 1.4.1. Tests ###\n",
    "\n",
    "Add logging to your code and show that your code behaves differently for documents with different caching policy."
   ]
  },
  {
   "cell_type": "code",
   "execution_count": null,
   "metadata": {
    "id": "-_OwVQMEuOV4"
   },
   "outputs": [],
   "source": [
    "import time\n",
    "\n",
    "doc = CachedDocument('https://polyfill.io/v3/polyfill.min.js')\n",
    "doc.get()\n",
    "time.sleep(2)\n",
    "doc.get()\n",
    "time.sleep(2)\n",
    "doc.get()\n",
    "\n",
    "doc = CachedDocument('https://yandex.ru/')\n",
    "doc.get()\n",
    "time.sleep(2)\n",
    "doc.get()\n",
    "time.sleep(2)\n",
    "doc.get()"
   ]
  },
  {
   "cell_type": "markdown",
   "metadata": {
    "id": "z6C60rJOqkHf"
   },
   "source": [
    "## 1.5. [10] Crawling ##\n",
    "\n",
    "Method `crawl_generator()` is given starting url (`source`) and max depth of search. It should return a **generator** of `HtmlDocumentTextData` objects (return a document as soon as it is downloaded and parsed). You can benefit from `yield obj_name` python construction. Use `HtmlDocumentTextData.anchors` field to go deeper."
   ]
  },
  {
   "cell_type": "code",
   "execution_count": 34,
   "metadata": {
    "id": "TLX_vNnSqkHf"
   },
   "outputs": [],
   "source": [
    "from queue import Queue\n",
    "\n",
    "\n",
    "class Crawler:\n",
    "\n",
    "    def crawl_generator(self, source, depth=1):\n",
    "        #TODO return real crawling results. Don't forget to process failures,\n",
    "        # exceptions, 3**, 4** codes\n",
    "        for i in range(3):\n",
    "            yield HtmlDocumentTextData(source)"
   ]
  },
  {
   "cell_type": "markdown",
   "metadata": {
    "id": "GJ6k6m7XqkHf"
   },
   "source": [
    "### 1.5.1. Tests ###"
   ]
  },
  {
   "cell_type": "code",
   "execution_count": null,
   "metadata": {
    "id": "d9zNWEvwqkHf"
   },
   "outputs": [],
   "source": [
    "crawler = Crawler()\n",
    "counter = Counter()\n",
    "\n",
    "for c in crawler.crawl_generator(\"https://innopolis.university/en/\", 2):\n",
    "    print(c.doc.url)\n",
    "    if c.doc.url[-4:] in ('.pdf', '.mp3', '.avi', '.mp4', '.txt'):\n",
    "        print(\"Skipping\", c.doc.url)\n",
    "        continue\n",
    "    counter.update(c.get_word_stats())\n",
    "    print(len(counter), \"distinct word(s) so far\")\n",
    "\n",
    "print(\"Done\")\n",
    "\n",
    "print(counter.most_common(20))\n",
    "assert [x for x in counter.most_common(20) if x[0] == 'innopolis'], 'innopolis sould be among most common'"
   ]
  }
 ],
 "metadata": {
  "colab": {
   "provenance": []
  },
  "kernelspec": {
   "display_name": "Python 3 (ipykernel)",
   "language": "python",
   "name": "python3"
  },
  "language_info": {
   "codemirror_mode": {
    "name": "ipython",
    "version": 3
   },
   "file_extension": ".py",
   "mimetype": "text/x-python",
   "name": "python",
   "nbconvert_exporter": "python",
   "pygments_lexer": "ipython3",
   "version": "3.9.7"
  }
 },
 "nbformat": 4,
 "nbformat_minor": 0
}
