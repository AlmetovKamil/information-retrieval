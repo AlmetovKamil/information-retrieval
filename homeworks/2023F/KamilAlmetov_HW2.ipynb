{
 "cells": [
  {
   "cell_type": "markdown",
   "metadata": {},
   "source": [
    "# 1. Measure and improve\n",
    "\n",
    "How do we know that search engine's quality improved (or at least haven't deteriorated) because of our changes?\n",
    "\n",
    "All we need is a way to ***evaluate*** our search engine. We will consider some of the popular evaluation techniques:\n",
    "\n",
    "1. Mean Average Precision\n",
    "2. 11-Point Interpolated Average\n",
    "3. Normalized Discounted Cumulative Gain (NDCG)\n",
    "4. pFound\n",
    "\n",
    "<!--We will apply them in the context of ranking with language models and will compare two ways of smoothing: additive and Jelinek-Mercer smoothing.\n",
    "-->\n",
    "\n",
    "It's best to go through the [book](https://nlp.stanford.edu/IR-book/pdf/irbookonlinereading.pdf) *chapter 8*, concretely, *8.4* to understand the key concepts of this lab. Here we will only present some excerpts from it."
   ]
  },
  {
   "cell_type": "markdown",
   "metadata": {},
   "source": [
    "## 1.1. [10] Mean Average Precision\n",
    "\n",
    "The most standard metric among the TREC community is *Mean Average Precision* *(MAP)*, which provides a single-figure measure of quality across recall levels. Among evaluation measures, MAP has been shown to have especially good discrimination and stability. For a single information need, Average Precision is the average of the precision value obtained for the set of top $k$ documents existing\n",
    "after each relevant document is retrieved, and this value is then averaged over information needs (queries). \n",
    "Assume we have a bucket $Q$ of queries $q_j\\in Q$.\n",
    "If the set of **relevant documents** for an information need (query) $q_j$ is {d<sub>1</sub>, . . . d<sub>m<sub>j</sub></sub>} and R<sub>jk</sub> is the set of ranked retrieval results from the top result until you get to document d<sub>k</sub>, then\n",
    "\n",
    "![](https://i.imgur.com/EGQMHVq.png)\n",
    "\n",
    "Implement this metric in the `mean_avg_precision` function.\n",
    "\n",
    "**NB** Don't make the name of [the metric confuse you](https://towardsdatascience.com/breaking-down-mean-average-precision-map-ae462f623a52). *Average Precision* is the term, which corresponds to the area under precision-recall curve. It's computation is tricky. We suggest to start with implementing [$AveP$](https://en.wikipedia.org/wiki/Evaluation_measures_(information_retrieval)#Average_precision)."
   ]
  },
  {
   "cell_type": "code",
   "execution_count": 3,
   "metadata": {
    "ExecuteTime": {
     "end_time": "2023-10-08T20:08:09.627846354Z",
     "start_time": "2023-10-08T20:08:09.578134726Z"
    }
   },
   "outputs": [],
   "source": [
    "def mean_avg_precision(search_results, relevance):\n",
    "    # TODO: calculate MAP score for search results, treating relevance judgments as binary - either relevant or not.\n",
    "    #\n",
    "    # search_results: list of lists of ranked results for each query [[doc_id1, doc_id2,...], ...]\n",
    "    # note that for tests to pass, the i-th result in search_results should correspond to (i+1)-th query_id.  \n",
    "    # relevance: dict, query_id:[(relevant_doc_id1, score1), (relevant_doc_id2, score2), ...]\n",
    "    def average_precision(query_id, query):\n",
    "        cnt = 0\n",
    "        ans = []\n",
    "        for i, doc in enumerate(query):\n",
    "            if doc in [value[0] for value in relevance[query_id]]:\n",
    "                cnt += 1\n",
    "                ans.append(cnt / (i + 1))\n",
    "        return 0 if len(ans) == 0 else sum(ans) / len(ans)\n",
    "\n",
    "    m_avg_p = 0\n",
    "    for i, query in enumerate(search_results):\n",
    "        m_avg_p += average_precision(i + 1, query)\n",
    "\n",
    "    return m_avg_p / len(search_results)"
   ]
  },
  {
   "cell_type": "markdown",
   "metadata": {},
   "source": [
    "### 1.1.1. Tests"
   ]
  },
  {
   "cell_type": "code",
   "execution_count": 4,
   "metadata": {
    "ExecuteTime": {
     "end_time": "2023-10-08T20:08:11.782452854Z",
     "start_time": "2023-10-08T20:08:11.748636237Z"
    }
   },
   "outputs": [
    {
     "name": "stdout",
     "output_type": "stream",
     "text": [
      "map_test 0.6464285714285715\n"
     ]
    }
   ],
   "source": [
    "import numpy as np\n",
    "\n",
    "test_relevance = {1: [(9, 1), (1, 2), (8, 3)], 2: [(5, 1), (9, 2), (6, 3)],\n",
    "                  3: [(9, 1), (4, 2), (6, 3)], 4: [(10, 1), (4, 2), (7, 3)],\n",
    "                  5: [(4, 1), (2, 2), (8, 3)], 6: [(2, 1), (9, 2), (4, 3)],\n",
    "                  7: [(1, 1), (2, 2), (3, 3)], 8: [(3, 1), (2, 2), (6, 3)],\n",
    "                  9: [(1, 1), (4, 2), (3, 3)], 10: [(10, 1), (7, 2), (8, 3)]}\n",
    "test_results = [[4, 5, 3, 6, 1, 2, 8, 9, 10, 7], [7, 5, 6, 3, 1, 8, 9, 4, 2, 10],\n",
    "                [8, 3, 4, 5, 9, 6, 1, 10, 2, 7], [4, 5, 7, 3, 6, 10, 1, 9, 2, 8],\n",
    "                [4, 8, 3, 5, 6, 7, 2, 1, 10, 9], [9, 7, 6, 5, 2, 4, 10, 1, 3, 8],\n",
    "                [3, 1, 5, 2, 10, 6, 7, 9, 8, 4], [9, 2, 4, 10, 8, 3, 7, 6, 1, 5],\n",
    "                [3, 4, 6, 1, 5, 10, 7, 2, 8, 9], [8, 10, 4, 1, 3, 7, 5, 6, 9, 2]]\n",
    "\n",
    "map_test = mean_avg_precision(test_results, test_relevance)\n",
    "print(\"map_test\", map_test)\n",
    "assert np.isclose(map_test, 0.646, atol=1e-03)\n",
    "assert mean_avg_precision(test_results[:5], test_relevance) > mean_avg_precision(test_results[5:10], test_relevance)"
   ]
  },
  {
   "cell_type": "markdown",
   "metadata": {},
   "source": [
    "## 1.2. [15] 11-Point Interpolated Average\n",
    "\n",
    "In a ranked retrieval context, appropriate sets of retrieved documents are naturally given by the top k retrieved documents. For each such set, precision and recall values can be plotted to give a precision-recall curve, such as this one (blue line):\n",
    "\n",
    "![](https://i.imgur.com/QnvDLAJ.png)\n",
    "\n",
    "Precision-recall curves have a distinctive saw-tooth shape: if the *(k + 1)<sup>th</sup>* document retrieved is nonrelevant then recall is the same as for the top k documents, but precision has dropped. If it is relevant, then both precision and recall increase, and the curve jags up and to the right.\n",
    "\n",
    "It is often useful to remove these jiggles and the standard way to do this is with an *interpolated precision*: the interpolated precision *p<sub>interp</sub>* at a certain recall level *r* is defined as the highest precision found for any recall level *r′* ≥ *r*:\n",
    "\n",
    "![](https://i.imgur.com/GMl2rQw.png)\n",
    "\n",
    "The justification is that almost anyone would be prepared to look at a few more documents if it would increase the percentage of the viewed set that were relevant (that is, if the precision of the larger set is higher). Interpolated precision is shown by a red line in the figure above.\n",
    "\n",
    "Examining this information for a single query may be useful, but usually we are more interested in a composite metrics, which will score over all test queries. The traditional way of doing this is the *11-point interpolated average*. For each information need, the interpolated precision is measured at the 11 recall levels of 0.0, 0.1, 0.2, . . . , 1.0. Then we average interpolated precision over all queries in the test collection and plot, like here:\n",
    "\n",
    "![](https://i.imgur.com/6wDmtp2.png)\n",
    "\n",
    "\n",
    "Plotting a number of such graphs for different versions of search engine on the same plot helps to compare their performance.\n",
    "\n",
    "You need to incorporate this logic into `eleven_points_interpolated_avg` function. Break it down to subfuctions as it seems necessary to you."
   ]
  },
  {
   "cell_type": "code",
   "execution_count": 11,
   "metadata": {
    "ExecuteTime": {
     "end_time": "2023-10-08T20:38:29.210403095Z",
     "start_time": "2023-10-08T20:38:29.200200058Z"
    }
   },
   "outputs": [],
   "source": [
    "import numpy as np\n",
    "import matplotlib.pyplot as plt\n",
    "\n",
    "\n",
    "def eleven_points_interpolated_avg(search_results, relevance, plot=True):\n",
    "    # TODO: return 11-points interpolated average over all queries. Refer to chapter 8.4 for explanation.\n",
    "    # First calculate values of precision-recall curve for each query, interpolate them, and average over all queries.\n",
    "    # This function is intended to use when for each query all documents are scored until the last relevant element\n",
    "    # is met. Treats relevance judgments as binary - either relevant or not.\n",
    "    # note that for tests to pass, the i-th result in search_results should correspond to (i+1)-th query_id.\n",
    "    #\n",
    "    # search_results: list of lists of ranked results for each query [[doc_id1, doc_id2,...], ...]\n",
    "    # note that for tests to pass, the i-th result in search_results should correspond to (i+1)-th query_id.  \n",
    "    # relevance: dict, query_id:[(relevant_doc_id1, score1), (relevant_doc_id2, score2), ...]\n",
    "    # return: interpolated_avg, list of 11 values\n",
    "    def is_relevant(doc, query_id):\n",
    "        return doc in [value[0] for value in relevance[query_id]]\n",
    "\n",
    "    def total_relevant_docs(query_id, query):\n",
    "        return len([doc for doc in query if is_relevant(doc, query_id)])\n",
    "\n",
    "    def precision_recall(query_id, query):\n",
    "        precision = []\n",
    "        recall = []\n",
    "        cnt = 0\n",
    "        for i, doc in enumerate(query):\n",
    "            if is_relevant(doc, query_id):\n",
    "                cnt += 1\n",
    "            precision.append(cnt / (i + 1))\n",
    "            recall.append(cnt / total_relevant_docs(query_id, query))\n",
    "        return precision, recall\n",
    "\n",
    "    def eleven_points_interpolated(precision, recall):\n",
    "        return [max([precision[i] for i in range(len(precision)) if recall[i] >= current_recall / 10]) for\n",
    "                current_recall in range(11)]\n",
    "    \n",
    "    def average_precision(precisions):\n",
    "        return 0 if len(precisions) == 0 else sum(precisions) / len(precisions)\n",
    "    \n",
    "    def plot_graph(eleven_points_interpolated_average):\n",
    "        plt.plot([i / 10 for i in range(11)], eleven_points_interpolated_average, '-o')\n",
    "        plt.xlabel('Recall')\n",
    "        plt.ylabel('Precision')\n",
    "        plt.show()\n",
    "    \n",
    "    eleven_points_per_query = []\n",
    "    for i, query in enumerate(search_results):\n",
    "        eleven_points_per_query.append(eleven_points_interpolated(*precision_recall(i+1, query)))\n",
    "    answer = [0] * 11\n",
    "    for i in range(11):\n",
    "        answer[i] = average_precision([eleven_points[i] for eleven_points in eleven_points_per_query])\n",
    "    \n",
    "    if plot:\n",
    "        plot_graph(answer)\n",
    "    return answer"
   ]
  },
  {
   "cell_type": "markdown",
   "metadata": {},
   "source": [
    "### 1.2.1.Tests"
   ]
  },
  {
   "cell_type": "code",
   "execution_count": 12,
   "metadata": {
    "ExecuteTime": {
     "end_time": "2023-10-08T20:38:31.554835436Z",
     "start_time": "2023-10-08T20:38:31.213409620Z"
    }
   },
   "outputs": [
    {
     "data": {
      "text/plain": "<Figure size 640x480 with 1 Axes>",
      "image/png": "[encoded data removed]"
     },
     "metadata": {},
     "output_type": "display_data"
    }
   ],
   "source": [
    "eleven_test = eleven_points_interpolated_avg(test_results, test_relevance, plot=True)\n",
    "assert all(eleven_test[k] >= eleven_test[k + 1] for k in range(len(eleven_test) - 1))"
   ]
  },
  {
   "cell_type": "markdown",
   "metadata": {},
   "source": [
    "## 1.3. [10] Normalized Discounted Cumulative Gain\n",
    "\n",
    "NDCG metric is designed for situations of non-binary notions of relevance. It is evaluated over some number $k$ of top search results (in our case we will evaluate over the whole dataset, since it is small). \n",
    "\n",
    "For a set of queries $Q$, let $R(j,d)$ be the relevance score assessors gave to document $d$ for query $j$. Then,\n",
    "\n",
    "![](https://i.imgur.com/LLogCYa.png)\n",
    "\n",
    "where $Z_{kj}$ is a normalization factor calculated to make it so that a perfect ranking’s NDCG at $k$ for query $j$ is 1. In other words, we divide calculated DCG score by ideal DCG score. \n",
    "\n",
    "Implement this metric in `NDCG` function."
   ]
  },
  {
   "cell_type": "code",
   "execution_count": null,
   "metadata": {},
   "outputs": [],
   "source": [
    "import math\n",
    "\n",
    "\n",
    "def NDCG(search_results, relevance):\n",
    "    # TODO: compute NDCG score for search results. Here relevance is not considered as binary - the bigger\n",
    "    # the judgement score is, the more relevant is the document to a query. Because in our cranfield dataset relevance\n",
    "    # judgements are presented in a different way (1 is most relevant, 4 is least), we will need to do smth with it. \n",
    "    # The simplest is to invert it, replacing each score with (5-score). For example, if the score was 2, it becomes 5-2=3.\n",
    "    # To find normalization factor for each query, think in this direction - for this particular query what would be an\n",
    "    # ideal DCG score? What documents should have (ideally) been returned by the search engine to maximize the DCG score?\n",
    "    # When you find it, just normalize the real DCG score by ideal DCG score, that's it.\n",
    "    #\n",
    "    # search_results: list of lists of ranked results for each query [[doc_id1, doc_id2,...], ...]\n",
    "    # note that for tests to pass, the i-th result in search_results should correspond to (i+1)-th query_id.  \n",
    "    # relevance: dict, query_id:[(relevant_doc_id1, score1), (relevant_doc_id2, score2), ...]       \n",
    "\n",
    "    return 0"
   ]
  },
  {
   "cell_type": "markdown",
   "metadata": {},
   "source": [
    "### 1.3.1. Tests"
   ]
  },
  {
   "cell_type": "code",
   "execution_count": null,
   "metadata": {},
   "outputs": [],
   "source": [
    "ndcg_test = NDCG(test_results, test_relevance)\n",
    "print(\"ndcg_test\", ndcg_test)\n",
    "assert np.isclose(ndcg_test, 0.640, atol=1e-03)\n",
    "assert NDCG(test_results[:5], test_relevance) < NDCG(test_results[5:10], test_relevance)"
   ]
  },
  {
   "cell_type": "markdown",
   "metadata": {},
   "source": [
    "## 1.4. [15] pFound ## \n",
    "**pFound** -- ranking metric invented in [Yandex](http://romip.ru/romip2009/15_yandex.pdf). This metric models user behaviour when looking at the search engine representation page (SERP). Metric assumes a user is inspecting a list from the top to the bottom. There are 2 global parameters, controlling behaviour:\n",
    "- `pBreak` -- how probable, that the user will become tired and just quit at this position (`0.15` by default).\n",
    "- `pRel` -- how probable the user will click the document if this document is relevant (`0.4` by default for a relevan document, `0` is given to irrelevant).\n",
    "\n",
    "Then, to compute pFound for the exact page we do:\n",
    "\n",
    "$pLook_i = pLook_{i-1}*(1 - pBreak)*(1 - pRel_{i-1})$\n",
    "\n",
    "$pFound = \\sum_{i=1}^{N}pLook_i*pRel_i$\n",
    "\n",
    "Implement `pFound` below."
   ]
  },
  {
   "cell_type": "code",
   "execution_count": 13,
   "metadata": {
    "ExecuteTime": {
     "end_time": "2023-10-08T20:49:33.328649783Z",
     "start_time": "2023-10-08T20:49:33.314661748Z"
    }
   },
   "outputs": [],
   "source": [
    "import math\n",
    "\n",
    "\n",
    "def pFound(search_results, relevance):\n",
    "    # TODO: calculate pFound score for search results, treating relevance judgments as binary - either relevant or not\n",
    "\n",
    "    # search_results: list of lists of ranked results for each query [[doc_id1, doc_id2,...], ...]\n",
    "    # relevance: dict, query_id:[(relevant_doc_id1, score1), (relevant_doc_id2, score2), ...]\n",
    "    # return average value for search results \n",
    "    def is_relevant(doc, query_id):\n",
    "        return doc in [value[0] for value in relevance[query_id]]\n",
    "    def p_rel(doc, query_id):\n",
    "        return 0.4 if is_relevant(doc, query_id) else 0\n",
    "    p_break = 0.15\n",
    "    def p_found_query(query_id, query):\n",
    "        p_rels = [p_rel(doc, query_id) for doc in query]\n",
    "        p_looks = [1]\n",
    "        for i, doc in enumerate(query):\n",
    "            p_looks.append(p_looks[i]*(1-p_break)*(1-p_rels[i]))\n",
    "        return sum([p_looks[i] * p_rels[i] for i in range(len(p_rels))])\n",
    "\n",
    "    return sum([p_found_query(i+1, query) for i, query in enumerate(search_results)]) / len(search_results)"
   ]
  },
  {
   "cell_type": "markdown",
   "metadata": {},
   "source": [
    "### 1.4.1. Tests"
   ]
  },
  {
   "cell_type": "code",
   "execution_count": 14,
   "metadata": {
    "ExecuteTime": {
     "end_time": "2023-10-08T20:49:34.914459616Z",
     "start_time": "2023-10-08T20:49:34.906220153Z"
    }
   },
   "outputs": [
    {
     "name": "stdout",
     "output_type": "stream",
     "text": [
      "pFound 0.5821558180674999\n"
     ]
    }
   ],
   "source": [
    "pFound_test = pFound(test_results, test_relevance)\n",
    "print(\"pFound\", pFound_test)\n",
    "assert np.isclose(pFound_test, 0.582, atol=1e-03)\n",
    "assert pFound(test_results[:5], test_relevance) > pFound(test_results[5:10], test_relevance)"
   ]
  }
 ],
 "metadata": {
  "kernelspec": {
   "display_name": "Python 3 (ipykernel)",
   "language": "python",
   "name": "python3"
  },
  "language_info": {
   "codemirror_mode": {
    "name": "ipython",
    "version": 3
   },
   "file_extension": ".py",
   "mimetype": "text/x-python",
   "name": "python",
   "nbconvert_exporter": "python",
   "pygments_lexer": "ipython3",
   "version": "3.9.7"
  }
 },
 "nbformat": 4,
 "nbformat_minor": 4
}
