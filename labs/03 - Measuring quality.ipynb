{
 "cells": [
  {
   "cell_type": "markdown",
   "id": "1b1f94b9-7b73-4748-9286-d786a69bdf71",
   "metadata": {},
   "source": [
    "# 1. Assessor and analyst work\n",
    "\n",
    "## 1.0. Rating and criteria\n",
    "\n",
    "Please [open this document](https://static.googleusercontent.com/media/guidelines.raterhub.com/en//searchqualityevaluatorguidelines.pdf)\n",
    "and study chapters 13.0-13.4. Your task will be to assess the organic answers of search engines given the same query.\n",
    "\n",
    "## 1.1. Explore the page\n",
    "\n",
    "For the following search engines:\n",
    "- https://duckduckgo.com/\n",
    "- https://www.bing.com/\n",
    "- https://ya.ru/\n",
    "- https://www.google.com/\n",
    "\n",
    "Perform the same query: \"**How to get from Kazan to Voronezh**\".\n",
    "\n",
    "Discuss with your TA the following:\n",
    "1. Which elements you may identify at SERP? Ads, snippets, blends from other sources, ...?\n",
    "2. Where are organic results? How many of them are there?\n",
    "\n",
    "## 1.2. Rate the results of the search engine\n",
    "\n",
    "If there are many of you in the group, assess all search engines, otherwise choose 1 or 2. There should be no less than 5 of your for each search engine. Use the scale from the handbook, use 0..4 numerical equivalents for `[FailsM, SM, MM, HM, FullyM]`. \n",
    "\n",
    "Compute:\n",
    "- average relevance and standard deviation for each SERP element.\n",
    "- [Fleiss kappa score](https://en.wikipedia.org/wiki/Fleiss%27_kappa#Worked_example) for your group. Use [this implementation](https://www.statsmodels.org/dev/generated/statsmodels.stats.inter_rater.fleiss_kappa.html).\n",
    "- [Kendall rank coefficient](https://en.wikipedia.org/wiki/Kendall_rank_correlation_coefficient) for some pairs in your group. Use [this implementation](https://docs.scipy.org/doc/scipy/reference/generated/scipy.stats.kendalltau.html).\n",
    "\n",
    "Discuss numerical results. Did you agree on the relevance? Did you agree on the rank? What is the difference?"
   ]
  },
  {
   "cell_type": "code",
   "execution_count": 2,
   "id": "3c3738c6-ed54-4113-b75a-cba812c5aade",
   "metadata": {
    "ExecuteTime": {
     "end_time": "2023-09-18T10:14:14.587997040Z",
     "start_time": "2023-09-18T10:14:14.443588651Z"
    }
   },
   "outputs": [],
   "source": [
    "import numpy as np\n",
    "\n",
    "# example input by users\n",
    "ranking_data = np.array([\n",
    "    [4, 4, 4, 3, 4, 2, 2, 1, 1, 0],  # assessor 1 relevance\n",
    "    [4, 3, 4, 3, 3, 2, 1, 1, 1, 1],  # assessor 2 relevance\n",
    "    [3, 4, 4, 4, 4, 3, 2, 1, 1, 1],  # ...\n",
    "    [4, 4, 4, 4, 3, 2, 2, 1, 1, 0],\n",
    "    [4, 4, 4, 4, 3, 2, 2, 1, 1, 3]\n",
    "])"
   ]
  },
  {
   "cell_type": "markdown",
   "id": "32a88b0e-5ece-404c-9fc2-82c4d1bb3281",
   "metadata": {},
   "source": [
    "Averages ang standard deviations per item.\n",
    "\n",
    "1) Calculate the Average (Hint use mean(axis=0) cause we care about the columns)\n",
    "\n",
    "2) Calculate Sigma2: the Variance (mean((item - mean)**2 ))\n",
    "\n",
    "3) Calcualte Sigma: the square root of the Variance\n",
    "\n"
   ]
  },
  {
   "cell_type": "code",
   "execution_count": 7,
   "id": "59c53e3e-120f-45ec-94c1-f02d061f0177",
   "metadata": {
    "ExecuteTime": {
     "end_time": "2023-09-18T10:21:26.818825889Z",
     "start_time": "2023-09-18T10:21:26.781711849Z"
    }
   },
   "outputs": [
    {
     "name": "stdout",
     "output_type": "stream",
     "text": [
      " 0 relevance 3.80 ± 0.400\n",
      " 1 relevance 3.80 ± 0.400\n",
      " 2 relevance 4.00 ± 0.000\n",
      " 3 relevance 3.60 ± 0.490\n",
      " 4 relevance 3.40 ± 0.490\n",
      " 5 relevance 2.20 ± 0.400\n",
      " 6 relevance 1.80 ± 0.400\n",
      " 7 relevance 1.00 ± 0.000\n",
      " 8 relevance 1.00 ± 0.000\n",
      " 9 relevance 1.00 ± 1.095\n"
     ]
    }
   ],
   "source": [
    "# TODO your code here\n",
    "average_relevance = ranking_data.mean(axis=0)\n",
    "sigma2 = ((ranking_data - average_relevance) ** 2).mean(axis=0)\n",
    "sigma = np.sqrt(sigma2)\n",
    "\n",
    "for i in range(ranking_data.shape[1]):\n",
    "    print(f\" {i} relevance {average_relevance[i]:.2f} ± {sigma[i]:.3f}\")\n",
    "\n"
   ]
  },
  {
   "cell_type": "markdown",
   "id": "70a88642-87aa-42c1-b913-83eb9b22d973",
   "metadata": {},
   "source": [
    "Fleiss kappa score"
   ]
  },
  {
   "cell_type": "code",
   "execution_count": 8,
   "id": "06e63c2c-090d-4da1-b0b8-45ec2538e635",
   "metadata": {
    "ExecuteTime": {
     "end_time": "2023-09-18T10:23:48.205867412Z",
     "start_time": "2023-09-18T10:21:31.423654798Z"
    }
   },
   "outputs": [
    {
     "name": "stdout",
     "output_type": "stream",
     "text": [
      "Defaulting to user installation because normal site-packages is not writeable\r\n",
      "Collecting statsmodels\r\n",
      "  Downloading statsmodels-0.14.0-cp310-cp310-manylinux_2_17_x86_64.manylinux2014_x86_64.whl (10.1 MB)\r\n",
      "\u001B[2K     \u001B[90m━━━━━━━━━━━━━━━━━━━━━━━━━━━━━━━━━━━━━━━\u001B[0m \u001B[32m10.1/10.1 MB\u001B[0m \u001B[31m151.7 kB/s\u001B[0m eta \u001B[36m0:00:00\u001B[0m00:01\u001B[0m00:02\u001B[0m\r\n",
      "\u001B[?25hCollecting pandas>=1.0\r\n",
      "  Downloading pandas-2.1.0-cp310-cp310-manylinux_2_17_x86_64.manylinux2014_x86_64.whl (12.7 MB)\r\n",
      "\u001B[2K     \u001B[90m━━━━━━━━━━━━━━━━━━━━━━━━━━━━━━━━━━━━━━━\u001B[0m \u001B[32m12.7/12.7 MB\u001B[0m \u001B[31m168.8 kB/s\u001B[0m eta \u001B[36m0:00:00\u001B[0m00:01\u001B[0m00:03\u001B[0m\r\n",
      "\u001B[?25hRequirement already satisfied: packaging>=21.3 in /home/kamil/.local/lib/python3.10/site-packages (from statsmodels) (23.1)\r\n",
      "Collecting scipy!=1.9.2,>=1.4\r\n",
      "  Using cached scipy-1.11.2-cp310-cp310-manylinux_2_17_x86_64.manylinux2014_x86_64.whl (36.3 MB)\r\n",
      "Requirement already satisfied: numpy>=1.18 in /home/kamil/.local/lib/python3.10/site-packages (from statsmodels) (1.26.0)\r\n",
      "Collecting patsy>=0.5.2\r\n",
      "  Downloading patsy-0.5.3-py2.py3-none-any.whl (233 kB)\r\n",
      "\u001B[2K     \u001B[90m━━━━━━━━━━━━━━━━━━━━━━━━━━━━━━━━━━━━━\u001B[0m \u001B[32m233.8/233.8 KB\u001B[0m \u001B[31m217.0 kB/s\u001B[0m eta \u001B[36m0:00:00\u001B[0ma \u001B[36m0:00:01\u001B[0m\r\n",
      "\u001B[?25hRequirement already satisfied: python-dateutil>=2.8.2 in /home/kamil/.local/lib/python3.10/site-packages (from pandas>=1.0->statsmodels) (2.8.2)\r\n",
      "Collecting tzdata>=2022.1\r\n",
      "  Using cached tzdata-2023.3-py2.py3-none-any.whl (341 kB)\r\n",
      "Requirement already satisfied: pytz>=2020.1 in /usr/lib/python3/dist-packages (from pandas>=1.0->statsmodels) (2022.1)\r\n",
      "Requirement already satisfied: six in /home/kamil/.local/lib/python3.10/site-packages (from patsy>=0.5.2->statsmodels) (1.16.0)\r\n",
      "Installing collected packages: tzdata, scipy, patsy, pandas, statsmodels\r\n",
      "Successfully installed pandas-2.1.0 patsy-0.5.3 scipy-1.11.2 statsmodels-0.14.0 tzdata-2023.3\r\n"
     ]
    }
   ],
   "source": [
    "!pip install statsmodels"
   ]
  },
  {
   "cell_type": "code",
   "execution_count": 12,
   "id": "6cb6cbb6-7768-42f0-aed3-215488d15bc2",
   "metadata": {
    "ExecuteTime": {
     "end_time": "2023-09-18T10:32:45.097882778Z",
     "start_time": "2023-09-18T10:32:45.049446203Z"
    }
   },
   "outputs": [
    {
     "name": "stdout",
     "output_type": "stream",
     "text": [
      "Agreement matrix:\n",
      "[[0 0 0 1 4]\n",
      " [0 0 0 1 4]\n",
      " [0 0 0 0 5]\n",
      " [0 0 0 2 3]\n",
      " [0 0 0 3 2]\n",
      " [0 0 4 1 0]\n",
      " [0 1 4 0 0]\n",
      " [0 5 0 0 0]\n",
      " [0 5 0 0 0]\n",
      " [2 2 0 1 0]]\n",
      "Categories: [0 1 2 3 4]\n",
      "Kappa: 0.5156081808396124\n"
     ]
    }
   ],
   "source": [
    "from statsmodels.stats.inter_rater import aggregate_raters, fleiss_kappa\n",
    "\n",
    "# TODO your code here\n",
    "# transpose ranking data\n",
    "transposed_ranking_data = ranking_data.transpose()\n",
    "agreement_matrix, categories = aggregate_raters(transposed_ranking_data)\n",
    "kappa = fleiss_kappa(agreement_matrix)\n",
    "print(\"Agreement matrix:\")\n",
    "print(agreement_matrix)\n",
    "print(f\"Categories: {categories}\")\n",
    "print(f\"Kappa: {kappa}\")\n"
   ]
  },
  {
   "cell_type": "markdown",
   "id": "3bd6069e-e8a1-4483-b1f2-bf5f4e982283",
   "metadata": {},
   "source": [
    "Kendall tau score is pairwise. Compare one to another."
   ]
  },
  {
   "cell_type": "code",
   "execution_count": 30,
   "id": "6e7f5f22-74a4-47cd-848a-09c8e1abb39c",
   "metadata": {
    "ExecuteTime": {
     "end_time": "2023-09-18T10:35:29.103555519Z",
     "start_time": "2023-09-18T10:35:29.086035570Z"
    }
   },
   "outputs": [
    {
     "data": {
      "text/plain": "SignificanceResult(statistic=0.8336550215650926, pvalue=0.0031006074932690315)"
     },
     "execution_count": 30,
     "metadata": {},
     "output_type": "execute_result"
    }
   ],
   "source": [
    "from scipy.stats import kendalltau\n",
    "\n",
    "# TODO your code here\n",
    "kendalltau = kendalltau(ranking_data[0], ranking_data[1])\n",
    "kendalltau"
   ]
  },
  {
   "cell_type": "markdown",
   "id": "9eed044a-9a49-432d-b7a6-7591087d0de7",
   "metadata": {},
   "source": [
    "# 2. Engineer work\n",
    "\n",
    "You will create a bucket of URLs which are relevant for the query **\"free cloud git\"**. Then you will automate the search procedure using https://serpapi.com/, or https://developers.google.com/custom-search/v1/overview, or whatever.\n",
    "\n",
    "Then you will compute MRR@10 and Precision@10.\n",
    "\n",
    "## 2.1. Build your bucket here"
   ]
  },
  {
   "cell_type": "code",
   "execution_count": 31,
   "id": "e11aa566-0ab3-48d7-959c-ab6cb875d7ac",
   "metadata": {
    "ExecuteTime": {
     "end_time": "2023-09-18T10:51:10.803303090Z",
     "start_time": "2023-09-18T10:51:10.759126306Z"
    }
   },
   "outputs": [],
   "source": [
    "rel_bucket = [\n",
    "    \"gitpod.io\",\n",
    "    \"github.com\",\n",
    "    \"bitbucket.org\",\n",
    "    \"source.cloud.google.com\",\n",
    "    \"gitlab.com\",\n",
    "    \"sourceforge.net\",\n",
    "    \"aws.amazon.com/codecommit/\",\n",
    "    \"launchpad.net\",\n",
    "]\n",
    "\n",
    "query = \"free git cloud\""
   ]
  },
  {
   "cell_type": "markdown",
   "id": "d501aa5e-7051-4039-930b-b293c49721e1",
   "metadata": {},
   "source": [
    "## 2.2. Relevance Assessment\n",
    "\n",
    "The purpose of this section is to introduce a function, `is_rel`, which evaluates the relevance of a document based on its URL.\n",
    "\n",
    "### Function Overview\n",
    "\n",
    "**Name:** `is_rel(resp_url)`\n",
    "\n",
    "**Arguments:**\n",
    "- `resp_url`: A string representing the URL of the document we wish to assess for relevance.\n",
    "\n",
    "**Returns:**\n",
    "- A boolean value (`True` or `False`) indicating whether the document is considered relevant.\n",
    "\n",
    "### Code Explanation"
   ]
  },
  {
   "cell_type": "code",
   "execution_count": 39,
   "id": "450a610f-c121-4781-8719-1dcfd4892625",
   "metadata": {
    "ExecuteTime": {
     "end_time": "2023-09-18T11:00:25.444564117Z",
     "start_time": "2023-09-18T11:00:25.435255494Z"
    }
   },
   "outputs": [],
   "source": [
    "def is_rel(resp_url):\n",
    "    # Loop through each URL our known relevant bucket\n",
    "    # If the current URL is found within the provided resp_url\n",
    "    # The document is relevant\n",
    "    # If we've gone through the entire rel_bucket and found no matches\n",
    "    # The document is not relevant\n",
    "    global rel_bucket\n",
    "    return int(any(url in resp_url for url in rel_bucket))"
   ]
  },
  {
   "cell_type": "markdown",
   "id": "5c3c2ea8-19c1-44b5-8fc2-fa4e23182dae",
   "metadata": {},
   "source": [
    "## 2.3. Automation\n",
    "\n",
    "This section introduces a procedure to fetch search results from a search engine using an automation tool (in this case, `serpapi`). This tool allows us to programmatically obtain search results based on a query.\n",
    "\n",
    "### Procedure Overview\n",
    "\n",
    "1. Define the `api_key` to authenticate with the service.\n",
    "2. Construct a URL endpoint that specifies the search query and other parameters.\n",
    "3. Fetch the search results.\n",
    "4. Parse and display the results, while also assessing their relevance.\n"
   ]
  },
  {
   "cell_type": "code",
   "execution_count": 42,
   "id": "434e58a5-77a8-4d54-a495-8540361f6df7",
   "metadata": {
    "ExecuteTime": {
     "end_time": "2023-09-18T11:04:24.651583144Z",
     "start_time": "2023-09-18T11:04:24.195229291Z"
    }
   },
   "outputs": [
    {
     "name": "stdout",
     "output_type": "stream",
     "text": [
      "Position: 1\n",
      "Title: 6 places to host your git repository\n",
      "URL: https://opensource.com/article/18/8/github-alternatives\n",
      "Relevance: 0\n",
      "\n",
      "Position: 2\n",
      "Title: GitLab: The DevSecOps Platform\n",
      "URL: https://about.gitlab.com/\n",
      "Relevance: 1\n",
      "\n",
      "Position: 3\n",
      "Title: GitHub: Let's build from here · GitHub\n",
      "URL: https://github.com/\n",
      "Relevance: 1\n",
      "\n",
      "Position: 4\n",
      "Title: Gitpod: Always ready-to-code.\n",
      "URL: https://www.gitpod.io/\n",
      "Relevance: 1\n",
      "\n",
      "Position: 5\n",
      "Title: Bitbucket | Git solution for teams using Jira\n",
      "URL: https://bitbucket.org/product\n",
      "Relevance: 1\n",
      "\n",
      "Position: 6\n",
      "Title: Best 13 Free Version Control Hosting Software Picks in 2023\n",
      "URL: https://www.g2.com/categories/version-control-hosting/free\n",
      "Relevance: 0\n",
      "\n",
      "Position: 7\n",
      "Title: 14 Git Hosting Services Compared | Tower Blog\n",
      "URL: https://www.git-tower.com/blog/git-hosting-services-compared/\n",
      "Relevance: 0\n",
      "\n",
      "Position: 8\n",
      "Title: Best free git hosting? : r/git\n",
      "URL: https://www.reddit.com/r/git/comments/46t07s/best_free_git_hosting/\n",
      "Relevance: 0\n",
      "\n",
      "Position: 9\n",
      "Title: Sourcetree | Free Git GUI for Mac and Windows\n",
      "URL: https://www.sourcetreeapp.com/\n",
      "Relevance: 0\n",
      "\n",
      "Position: 10\n",
      "Title: Top 10 best Git hosting solutions and services in 2021\n",
      "URL: https://www.devopsschool.com/blog/top-5-git-hosting-solutions/\n",
      "Relevance: 0\n"
     ]
    }
   ],
   "source": [
    "# Import the requests module to send HTTP requests.\n",
    "import requests\n",
    "\n",
    "# The unique API key to access the serpapi service.\n",
    "api_key = \"5aff1ae53da3a991a97d770bf1991833ba30a97d68925ede4cb0003285c727ba\"\n",
    "\n",
    "# Construct the URL for fetching search results, specifying the query, language (English),\n",
    "# geographic location (US), and the domain (google.com).\n",
    "# url = f'https://serpapi.com/search.json?q=free+cloud+git&location=Austin,+Texas,+United+States&hl=en&gl=us&google_domain=google.com&api_key={api_key}'\n",
    "url = f\"https://serpapi.com/search.json?q={query}&hl=en&gl=us&google_domain=google.com&api_key={api_key}\"\n",
    "# Send a GET request to the constructed URL and parse the JSON response.\n",
    "js = requests.get(url).json()\n",
    "\n",
    "# Initialize a list to store relevance indicators (1 for relevant, 0 for non-relevant).\n",
    "rels = []\n",
    "\n",
    "# Iterate over the 'organic_results' section of the response.\n",
    "for result in js[\"organic_results\"]:\n",
    "    # Display the position and title of the search result.\n",
    "    print(f'Position: {result[\"position\"]}')\n",
    "    print(f'Title: {result[\"title\"]}')\n",
    "    # Display the link (URL) of the search result.\n",
    "    print(f'URL: {result[\"link\"]}')\n",
    "    # Check the relevance of the link using the is_rel function and display the result.\n",
    "    relevance = is_rel(result[\"link\"])\n",
    "    print(f'Relevance: {relevance}')\n",
    "    # Append the relevance indicator (1 or 0) to the rels list.\n",
    "    rels.append(relevance)\n",
    "    print()  # Print a blank line for better visual separation."
   ]
  },
  {
   "cell_type": "code",
   "execution_count": 43,
   "id": "70849db7-918b-4b17-b045-3a5a06927936",
   "metadata": {
    "ExecuteTime": {
     "end_time": "2023-09-18T11:04:26.699067071Z",
     "start_time": "2023-09-18T11:04:26.690309039Z"
    }
   },
   "outputs": [
    {
     "name": "stdout",
     "output_type": "stream",
     "text": [
      "[0, 1, 1, 1, 1, 0, 0, 0, 0, 0]\n"
     ]
    }
   ],
   "source": [
    "# Display the final list of relevance indicators for all the search results.\n",
    "print(rels)"
   ]
  },
  {
   "cell_type": "markdown",
   "id": "285eb724-2188-45d3-be78-cffb91bacee8",
   "metadata": {},
   "source": [
    "## 2.4. MRR (Mean Reciprocal Rank)\n",
    "\n",
    "MRR stands for \"Mean Reciprocal Rank\". It is a statistical measure used to evaluate the quality of a list of ranked items, specifically in information retrieval systems like search engines. MRR calculates the average of the reciprocal ranks of the first relevant item in the list.\n",
    "\n",
    "### Concept:\n",
    "\n",
    "If we have a set of ranked items, the reciprocal rank is the multiplicative inverse of the rank of the first relevant item. For example, if the first relevant item was in the 2nd position, its reciprocal rank is $\\frac{1}{2}$. If no relevant items are found, then a default rank (often the length of the list plus one) is used.\n",
    "\n",
    "The MRR is the average of the reciprocal ranks for a set of queries or lists.\n"
   ]
  },
  {
   "cell_type": "code",
   "execution_count": 45,
   "id": "33c40e3b-24d2-4c7b-860e-d543c1281f01",
   "metadata": {
    "ExecuteTime": {
     "end_time": "2023-09-18T11:13:58.023269713Z",
     "start_time": "2023-09-18T11:13:57.979933505Z"
    }
   },
   "outputs": [],
   "source": [
    "def mrr(list_of_lists, k=10):\n",
    "    # Initialize a variable to accumulate the sum of reciprocal ranks.\n",
    "    r = []\n",
    "    for lst in list_of_lists:\n",
    "        try:\n",
    "            r.append(1 / (lst.index(1) + 1))\n",
    "        except ValueError:\n",
    "            r.append(1/ (k + 1))\n",
    "    return np.mean(r)\n",
    "        \n",
    "    # Iterate over each list in the list of lists.\n",
    "    # If there's no relevant item in the list, use the default rank (k+1). \n",
    "    # Otherwise, compute the reciprocal rank of the first relevant item.\n",
    "    # Return the mean of the accumulated reciprocal ranks.\n"
   ]
  },
  {
   "cell_type": "code",
   "execution_count": 47,
   "id": "e64c4e28-9ae7-4715-96a2-adfa13c5b00b",
   "metadata": {
    "ExecuteTime": {
     "end_time": "2023-09-18T11:14:07.212010496Z",
     "start_time": "2023-09-18T11:14:07.197186891Z"
    }
   },
   "outputs": [
    {
     "data": {
      "text/plain": "0.5"
     },
     "execution_count": 47,
     "metadata": {},
     "output_type": "execute_result"
    }
   ],
   "source": [
    "mrr([rels])  # BTW, why do I wrap the list into additional brackets? :)"
   ]
  },
  {
   "cell_type": "markdown",
   "id": "d644d32d-3d15-4d81-b3b5-396af0e85dd1",
   "metadata": {},
   "source": [
    "## 2.5. Precision\n",
    "\n",
    "Precision is one of the fundamental metrics in information retrieval. It quantifies how many of the retrieved items (or documents) are relevant. Specifically, precision is defined as the ratio of relevant retrieved items to the total number of retrieved items. \n",
    "\n",
    "Mathematically:\n",
    "$$ \\text{Precision} = \\frac{\\text{Number of Relevant Retrieved Items}}{\\text{Total Number of Retrieved Items}} $$\n",
    "\n",
    "\n",
    "In the context of multiple sets of retrieved items (like multiple search queries), the mean precision is often calculated to provide an average measure across all the sets.\n",
    "\n",
    "### Code Explanation:\n",
    "## 2.5. Precision\n",
    "Compute mean precision:"
   ]
  },
  {
   "cell_type": "code",
   "execution_count": 51,
   "id": "5be58a4a-deeb-48cd-9f81-cae0be9a8493",
   "metadata": {
    "ExecuteTime": {
     "end_time": "2023-09-18T11:18:04.221582360Z",
     "start_time": "2023-09-18T11:18:04.215716133Z"
    }
   },
   "outputs": [],
   "source": [
    "def mp(list_of_lists, k=10):\n",
    "    # Initialize a variable to accumulate the sum of precisions.\n",
    "    p = 0\n",
    "    # Iterate over each list in the list of lists.\n",
    "    for lst in list_of_lists:\n",
    "    # Calculate precision for the current list.\n",
    "        p += sum(lst) / k\n",
    "    return p / len(list_of_lists)\n",
    "    # sum(l) gives the number of relevant items in the list, and k is the total number of items in the list.\n",
    "    # Return the mean of the accumulated precisions."
   ]
  },
  {
   "cell_type": "code",
   "execution_count": 52,
   "id": "1d3fbb74-9b3d-46a2-98d9-4a8894c8e8b7",
   "metadata": {
    "ExecuteTime": {
     "end_time": "2023-09-18T11:18:05.476068236Z",
     "start_time": "2023-09-18T11:18:05.468319907Z"
    }
   },
   "outputs": [
    {
     "name": "stdout",
     "output_type": "stream",
     "text": [
      "0.4\n"
     ]
    }
   ],
   "source": [
    "print(mp([rels]))"
   ]
  }
 ],
 "metadata": {
  "kernelspec": {
   "display_name": "Python 3",
   "language": "python",
   "name": "python3"
  },
  "language_info": {
   "codemirror_mode": {
    "name": "ipython",
    "version": 3
   },
   "file_extension": ".py",
   "mimetype": "text/x-python",
   "name": "python",
   "nbconvert_exporter": "python",
   "pygments_lexer": "ipython3",
   "version": "3.10.12"
  }
 },
 "nbformat": 4,
 "nbformat_minor": 5
}
