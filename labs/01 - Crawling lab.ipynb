{
 "cells": [
  {
   "cell_type": "markdown",
   "id": "f70e56cb-00be-49e1-869a-deac83bac346",
   "metadata": {},
   "source": [
    "# Essential skill for the Internet crawling\n",
    "\n",
    "## Regular expressions\n",
    "\n",
    "Regular expressions (aka regex, regexp) are used to search for patterns. Machine-readable languages often have regualar structure (not always), or at least are non-ambiguous.\n",
    "\n",
    "Obvious way is, of course, to let machine parse the document and then process the result (as in the previous lab). But this often result in additinal depenencies and significant memory and time overhead (which is ok for a single document, but won't work for millions)."
   ]
  },
  {
   "cell_type": "markdown",
   "id": "ac8b2ec8",
   "metadata": {},
   "source": [
    "#### Predefined Character Classes:"
   ]
  },
  {
   "cell_type": "code",
   "execution_count": 8,
   "id": "115254cc",
   "metadata": {
    "ExecuteTime": {
     "end_time": "2023-09-04T10:08:03.490444577Z",
     "start_time": "2023-09-04T10:08:03.446128457Z"
    }
   },
   "outputs": [
    {
     "name": "stdout",
     "output_type": "stream",
     "text": [
      "[a-zA-Z]\\W[a-zA-Z]: ['e h', 'e o', 's a', 't o', 's s', 'w s', 'd w', 'e s', 'r-v']\n",
      "9\n"
     ]
    }
   ],
   "source": [
    "import re\n",
    "\n",
    "string = \"we have only 5 do11ars. This amount of $ is small. H0w should we sur-vive?\"\n",
    "\n",
    "# pattern = \"\\d\"  #: Matches any digit (0-9).\n",
    "#pattern = \"\\D\" #: Matches any non-digit. \n",
    "#pattern = \"\\w\" #: Matches any word character (a-z, A-Z, 0-9, _).\n",
    "#pattern = \"\\W\" #: Matches any non-word character.\n",
    "#pattern = \"\\s\" #: Matches any whitespace character (spaces, tabs, line breaks).\n",
    "#pattern = \"\\S\" #: Matches any non-whitespace character.\n",
    "\n",
    "# print(pattern, end=\": \",)\n",
    "# print(re.findall(pattern, string))\n",
    "# print(len(re.findall(pattern, string)))\n",
    "\n",
    "\n",
    "# Extra point task - \n",
    "#   1) return the all the digits that are surrounded by white spaces:\n",
    "#   2) return the all the none word characters that are surrounded by letters:\n",
    "# pattern = \"\\s\\d\\s\" \n",
    "pattern = \"[a-zA-Z]\\W[a-zA-Z]\"\n",
    "print(pattern, end=\": \", )\n",
    "print(re.findall(pattern, string))\n",
    "print(len(re.findall(pattern, string)))\n",
    "\n"
   ]
  },
  {
   "cell_type": "markdown",
   "id": "bb4948df",
   "metadata": {},
   "source": [
    "#### Quantifiers:\n",
    "\n"
   ]
  },
  {
   "cell_type": "code",
   "execution_count": 14,
   "id": "d1b987cc",
   "metadata": {
    "ExecuteTime": {
     "end_time": "2023-09-04T10:16:45.213717710Z",
     "start_time": "2023-09-04T10:16:45.161172731Z"
    }
   },
   "outputs": [
    {
     "name": "stdout",
     "output_type": "stream",
     "text": [
      "\\w*ll: ['small']\n",
      "1\n"
     ]
    }
   ],
   "source": [
    "import re\n",
    "\n",
    "string = \"W8! we have only 5 do11111ars. This amount of $ is small. How should we sur-vive?\"\n",
    "\n",
    "pattern = 'll*.'  #: Matches 0 or more of the preceding character or group. E.g., ab*c matches \"ac\", \"abc\", \"abbc\", etc.\n",
    "#pattern = 'll+.'      #: Matches 1 or more of the preceding character or group. E.g., ab+c matches \"abc\", \"abbc\", but not \"ac\".\n",
    "#pattern = 'll?.'      #: Matches 0 or 1 of the preceding character or group. E.g., ab?c matches \"ac\" and \"abc\", but not \"abbc\".\n",
    "#pattern = 'll{0}.'    #: Matches exactly n of the preceding character or group.\n",
    "#pattern = 'll{1,}.'   #: Matches n or more of the preceding character or group.\n",
    "#pattern = 'do1{1,2}ar'  #: Matches between n and m of the preceding character or group.\n",
    "\n",
    "# print(pattern, end=\": \",)\n",
    "# print(re.findall(pattern, string))\n",
    "# print(len(re.findall(pattern, string)))\n",
    "\n",
    "#Extra point task - \n",
    "#  1) return all the words that contains digits in the middle (and then any word that have a digit):\n",
    "#  2) return all the words that end with a 2 'l's:\n",
    "# pattern2 = \"[a-zA-Z]+\\d+[a-zA-Z]+\" # with digits in the middle\n",
    "# pattern2 = \"[a-zA-Z]*\\d+[a-zA-Z]*\" # a word that has a digit \n",
    "pattern2 = \"\\w*ll\"\n",
    "print(pattern2, end=\": \", )\n",
    "print(re.findall(pattern2, string))\n",
    "print(len(re.findall(pattern2, string)))\n"
   ]
  },
  {
   "cell_type": "markdown",
   "id": "c782595b",
   "metadata": {},
   "source": [
    "#### Character Classes and Sets"
   ]
  },
  {
   "cell_type": "code",
   "execution_count": 20,
   "id": "436ce471",
   "metadata": {
    "ExecuteTime": {
     "end_time": "2023-09-04T10:21:33.689734586Z",
     "start_time": "2023-09-04T10:21:33.643351854Z"
    }
   },
   "outputs": [
    {
     "name": "stdout",
     "output_type": "stream",
     "text": [
      "[A-Z][a-z]+[a1s]: ['Apple1', 'Bananas', 'Orange1', 'Grapes', 'Peachs', 'Pea']\n",
      "6\n"
     ]
    }
   ],
   "source": [
    "string = \"we have only 5 do11111ars. This amount of $ is small. How should we sur-vive?\"\n",
    "\n",
    "#pattern=\"[a1s]\"   #: Matches any one character inside the brackets, so it matches either \"a\", \"b\", or \"c\".\n",
    "#pattern=\"[^ah ]\"  #: Matches any one character not inside the brackets.\n",
    "#pattern=\"[a-z]\"   #: Matches any lowercase letter.\n",
    "#pattern=\"[A-Z]\"   #: Matches any uppercase letter.\n",
    "#pattern=\"[0-9]\"   #: Matches any digit.\n",
    "#pattern=\"(abc)\"   #\": Matches the exact characters \"abc\" and groups them together.\n",
    "#pattern=\"(a|b)\"   #\": Matches either \"a\" or \"b\".\n",
    "\n",
    "\n",
    "# print(pattern, end=\": \",)\n",
    "# print(re.findall(pattern, string))\n",
    "# print(len(re.findall(pattern, string)))\n",
    "\n",
    "#Extra point task - \n",
    "#  1) Find all words that start with a digit and end with a non-word character:\n",
    "\n",
    "# string = \"3dogs! 4cats. 5fishes But not this one.\"\n",
    "# pattern = \"\\d\\w*\\W\" \n",
    "# print(pattern, end=\": \",)\n",
    "# print(re.findall(pattern, string))\n",
    "# print(len(re.findall(pattern, string)))\n",
    "\n",
    "\n",
    "#  2) Find all sequences in a text that start with an uppercase letter,\n",
    "# followed by one or more lowercase letters, and end with either the character 'a', '1', or 's':\n",
    "\n",
    "# string = \"Apple1 Bananas TreeS Mango Orange1 Grapes Peachs Pear\"\n",
    "# pattern = \"[A-Z][a-z]+[a1s]\"\n",
    "# print(pattern, end=\": \",)\n",
    "# print(re.findall(pattern, string))\n",
    "# print(len(re.findall(pattern, string)))\n"
   ]
  },
  {
   "cell_type": "markdown",
   "id": "cbd60467-c31a-4977-af18-a77862cf60aa",
   "metadata": {},
   "source": [
    "### Find URLs/URIs vs parse the doc\n",
    "\n",
    "Instead of building DOM model and extracting `href` and `src` attributes, you may rely on the structure of the url itself. Extact all URLs from [the page](https://math.stackexchange.com/questions/411486/understanding-the-singular-value-decomposition-svd) with regexp. You major tool is [re.findall(...)](https://docs.python.org/3/library/re.html#). You may also be interested in compiled regular rexpression (if you reuse one)."
   ]
  },
  {
   "cell_type": "code",
   "execution_count": 21,
   "id": "a6312c41-143c-4d38-af65-0ad9652caab7",
   "metadata": {
    "ExecuteTime": {
     "end_time": "2023-09-04T10:22:48.315258327Z",
     "start_time": "2023-09-04T10:22:47.447983613Z"
    }
   },
   "outputs": [
    {
     "name": "stdout",
     "output_type": "stream",
     "text": [
      "\n",
      "(?:([A-Za-z]+):)?(\\/{0,3})([0-9.\\-A-Za-z]+)(?::(\\d+))?(?:\\/([^?#]*))?(?:\\?([^#]*))?(?:#(.*))?\n",
      "[('', '', 'DOCTYPE', '', '', '', ''), ('', '', 'html', '', '', '', ''), ('', '', 'html', '', '', '', ''), ('', '', 'itemscope', '', '', '', ''), ('', '', 'itemtype', '', '', '', ''), ('https', '//', 'schema.org', '', 'QAPage\" class=\"html__responsive \" lang=\"en\">\\r\\n\\r\\n    <head>\\r\\n\\r\\n        <title>linear algebra - Understanding the singular value decomposition (SVD) - Mathematics Stack Exchange</title>\\r\\n        <link rel=\"shortcut icon\" href=\"https://cdn.sstatic.net/Sites/math/Img/favicon.ico', 'v=92addaa54d18\">\\r\\n        <link rel=\"apple-touch-icon\" href=\"https://cdn.sstatic.net/Sites/math/Img/apple-touch-icon.png?v=0ae50baa40ed\">\\r\\n        <link rel=\"image_src\" href=\"https://cdn.sstatic.net/Sites/math/Img/apple-touch-icon.png?v=0ae50baa40ed\"> \\r\\n        <link rel=\"search\" type=\"application/opensearchdescription+xml\" title=\"Mathematics Stack Exchange\" href=\"/opensearch.xml\">\\r\\n        <link rel=\"canonical\" href=\"https://math.stackexchange.com/questions/411486/understanding-the-singular-value-decomposition-svd\" />\\r\\n    <meta name=\"viewport\" content=\"width=device-width, height=device-height, initial-scale=1.0, minimum-scale=1.0\">\\r\\n        <meta property=\"og:type\" content= \"website\" />\\r\\n        <meta property=\"og:url\" content=\"https://math.stackexchange.com/questions/411486/understanding-the-singular-value-decomposition-svd\"/>\\r\\n        <meta property=\"og:site_name\" content=\"Mathematics Stack Exchange\" />\\r\\n        <meta property=\"og:image\" itemprop=\"image primaryImageOfPage\" content=\"https://cdn.sstatic.net/Sites/math/Img/apple-touch-icon@2.png?v=4ec1df2e49b1\" />\\r\\n        <meta name=\"twitter:card\" content=\"summary\"/>\\r\\n        <meta name=\"twitter:domain\" content=\"math.stackexchange.com\"/>\\r\\n        <meta name=\"twitter:title\" property=\"og:title\" itemprop=\"name\" content=\"Understanding the singular value decomposition (SVD)\" />\\r\\n        <meta name=\"twitter:description\" property=\"og:description\" itemprop=\"description\" content=\"Please, would someone be so kind and explain what exactly happens when Singular Value Decomposition is applied on a matrix? What are singular values, left singular, and right singular vectors? I know \" />\\r\\n    <script id=\"webpack-public-path\" type=\"text/uri-list\">https://cdn.sstatic.net/</script>\\r\\n    <script src=\"https://ajax.googleapis.com/ajax/libs/jquery/1.12.4/jquery.min.js\"></script>\\r\\n    <script defer src=\"https://cdn.sstatic.net/Js/third-party/npm/@stackoverflow/stacks/dist/js/stacks.min.js?v=ad920dba3340\"></script>\\r\\n    <script src=\"https://cdn.sstatic.net/Js/stub.en.js?v=98d9f62851ed\"></script>\\r\\n\\r\\n    <link rel=\"stylesheet\" type=\"text/css\" href=\"https://cdn.sstatic.net/Shared/stacks.css?v=85feea4d403d\">\\r\\n    <link rel=\"stylesheet\" type=\"text/css\" href=\"https://cdn.sstatic.net/Sites/math/primary.css?v=61593710227a\">\\r\\n\\r\\n\\r\\n    \\r\\n            <link rel=\"alternate\" type=\"application/atom+xml\" title=\"Feed for question &', 'x27;Understanding the singular value decomposition (SVD)&#x27;\" href=\"/feeds/question/411486\">\\r'), ('', '', 'script', '', '', '', ''), ('', '', 'StackExchange.ready', '', '', '', ''), ('', '', 'function', '', '', '', ''), ('', '', 'StackExchange.using', '', '', '', '')]\n",
      "\n",
      "(www|http:|https:)+[^\\s]+[\\w]\n",
      "['https:', 'https:', 'https:', 'https:', 'https:', 'https:', 'https:', 'https:', 'https:', 'https:']\n",
      "\n",
      "https?:\\/\\/(www\\.)?[-a-zA-Z0-9@:%._\\+~#=]{1,256}\\.[a-zA-Z0-9()]{1,6([-a-zA-Z0-9()@:%_\\+.~#?&//=]*)\n",
      "[]\n",
      "\n",
      "[-a-zA-Z0-9@:%._\\+~#=]{1,256}\\.[a-zA-Z0-9()]{1,6([-a-zA-Z0-9()@:%_\\+.~#?&//=]*)?\n",
      "[]\n",
      "\n",
      "(https?:\\/\\/(?:www\\.|(?!www))[a-zA-Z0-9][a-zA-Z0-9-]+[a-zA-Z0-9]\\.[^\\s]{2,}|www\\.[a-zA-Z0-9][a-zA-Z0-9-]+[a-zA-Z0-9]\\.[^\\s]{2,}|https?:\\/\\/(?:www\\.|(?!www))[a-zA-Z0-9]+\\.[^\\s]{2,}|www\\.[a-zA-Z0-9]+\\.[^\\s]{2,})\n",
      "['https://schema.org/QAPage\"', 'https://cdn.sstatic.net/Sites/math/Img/favicon.ico?v=92addaa54d18\">', 'https://cdn.sstatic.net/Sites/math/Img/apple-touch-icon.png?v=0ae50baa40ed\">', 'https://cdn.sstatic.net/Sites/math/Img/apple-touch-icon.png?v=0ae50baa40ed\">', 'https://math.stackexchange.com/questions/411486/understanding-the-singular-value-decomposition-svd\"', 'https://math.stackexchange.com/questions/411486/understanding-the-singular-value-decomposition-svd\"/>', 'https://cdn.sstatic.net/Sites/math/Img/apple-touch-icon@2.png?v=4ec1df2e49b1\"', 'https://cdn.sstatic.net/</script>', 'https://ajax.googleapis.com/ajax/libs/jquery/1.12.4/jquery.min.js\"></script>', 'https://cdn.sstatic.net/Js/third-party/npm/@stackoverflow/stacks/dist/js/stacks.min.js?v=ad920dba3340\"></script>']\n",
      "\n",
      "(?!mailto:)(?:(?:http|https|ftp)://)(?:\\S+(?::\\S*)?@)?(?:(?:(?:[1-9]\\d?|1\\d\\d|2[01]\\d|22[0-3])(?:\\.(?:1?\\d{1,2}|2[0-4]\\d|25[0-5])){2}(?:\\.(?:[0-9]\\d?|1\\d\\d|2[0-4]\\d|25[0-4]))|(?:(?:[a-z\\u00a1-\\uffff0-9]+-?)*[a-z\\u00a1-\\uffff0-9]+)(?:\\.(?:[a-z\\u00a1-\\uffff0-9]+-?)*[a-z\\u00a1-\\uffff0-9]+)*(?:\\.(?:[a-z\\u00a1-\\uffff]{2,})))|localhost)(?::\\d{2,5})?(?:(/|\\?|#)[^\\s]*)?\n",
      "['/', '/', '/', '/', '/', '/', '?', '/', '/', '/']\n",
      "\n",
      "https?:\\/\\/(?:www\\.)?[-a-zA-Z0-9@:%._\\+~#=]{1,256}\\.[a-zA-Z0-9()]{1,6(?:[-a-zA-Z0-9()@:%_\\+.~#?&\\/=]*)\n",
      "[]\n"
     ]
    }
   ],
   "source": [
    "import re\n",
    "import requests\n",
    "\n",
    "url = \"https://math.stackexchange.com/questions/\" \\\n",
    "      \"411486/understanding-the-singular-value-decomposition-svd\"\n",
    "\n",
    "text = requests.get(url).text\n",
    "\n",
    "# my inspiration - \n",
    "# I took some example URL regexp from the internet, \n",
    "# specifically from here:\n",
    "# https://stackoverflow.com/questions/3809401/what-is-a-good-regular-expression-to-match-a-url\n",
    "expressions = [\n",
    "    \"(?:([A-Za-z]+):)?(\\/{0,3})([0-9.\\-A-Za-z]+)(?::(\\d+))?(?:\\/([^?#]*))?(?:\\?([^#]*))?(?:#(.*))?\",\n",
    "    \"(www|http:|https:)+[^\\s]+[\\w]\",\n",
    "    \"https?:\\/\\/(www\\.)?[-a-zA-Z0-9@:%._\\+~#=]{1,256}\\.[a-zA-Z0-9()]{1,6}\\b([-a-zA-Z0-9()@:%_\\+.~#?&//=]*)\",\n",
    "    \"[-a-zA-Z0-9@:%._\\+~#=]{1,256}\\.[a-zA-Z0-9()]{1,6}\\b([-a-zA-Z0-9()@:%_\\+.~#?&//=]*)?\",\n",
    "    \"(https?:\\/\\/(?:www\\.|(?!www))[a-zA-Z0-9][a-zA-Z0-9-]+[a-zA-Z0-9]\\.[^\\s]{2,}|www\\.[a-zA-Z0-9][a-zA-Z0-9-]+[a-zA-Z0-9]\\.[^\\s]{2,}|https?:\\/\\/(?:www\\.|(?!www))[a-zA-Z0-9]+\\.[^\\s]{2,}|www\\.[a-zA-Z0-9]+\\.[^\\s]{2,})\",\n",
    "    \"(?!mailto:)(?:(?:http|https|ftp)://)(?:\\\\S+(?::\\\\S*)?@)?(?:(?:(?:[1-9]\\\\d?|1\\\\d\\\\d|2[01]\\\\d|22[0-3])(?:\\\\.(?:1?\\\\d{1,2}|2[0-4]\\\\d|25[0-5])){2}(?:\\\\.(?:[0-9]\\\\d?|1\\\\d\\\\d|2[0-4]\\\\d|25[0-4]))|(?:(?:[a-z\\\\u00a1-\\\\uffff0-9]+-?)*[a-z\\\\u00a1-\\\\uffff0-9]+)(?:\\\\.(?:[a-z\\\\u00a1-\\\\uffff0-9]+-?)*[a-z\\\\u00a1-\\\\uffff0-9]+)*(?:\\\\.(?:[a-z\\\\u00a1-\\\\uffff]{2,})))|localhost)(?::\\\\d{2,5})?(?:(/|\\\\?|#)[^\\\\s]*)?\",\n",
    "    \"https?:\\/\\/(?:www\\.)?[-a-zA-Z0-9@:%._\\+~#=]{1,256}\\.[a-zA-Z0-9()]{1,6}\\b(?:[-a-zA-Z0-9()@:%_\\+.~#?&\\/=]*)\",\n",
    "]\n",
    "\n",
    "for expression in expressions:\n",
    "    print()\n",
    "    pattern = re.compile(expression)\n",
    "    urls = pattern.findall(text)\n",
    "    print(expression)\n",
    "    print(urls[:10])"
   ]
  },
  {
   "cell_type": "markdown",
   "id": "63197434-4483-4d3c-ae0f-0dfb91f396b7",
   "metadata": {},
   "source": [
    "Was this success? \n",
    "\n",
    "Compose your own minimalistic:"
   ]
  },
  {
   "cell_type": "code",
   "execution_count": 98,
   "id": "d2055e8c-20d1-4cfe-9229-0f22a24183fb",
   "metadata": {
    "ExecuteTime": {
     "end_time": "2023-09-04T11:18:02.601908630Z",
     "start_time": "2023-09-04T11:18:01.912810554Z"
    }
   },
   "outputs": [
    {
     "name": "stdout",
     "output_type": "stream",
     "text": [
      "['https://schema.org/QAPage', 'https://cdn.sstatic.net/Sites/math/Img/favicon.ico?v=92addaa54d18', 'https://cdn.sstatic.net/Sites/math/Img/apple-touch-icon.png?v=0ae50baa40ed', 'https://cdn.sstatic.net/Sites/math/Img/apple-touch-icon.png?v=0ae50baa40ed', 'https://math.stackexchange.com/questions/411486/understanding-the-singular-value-decomposition-svd', 'https://math.stackexchange.com/questions/411486/understanding-the-singular-value-decomposition-svd', 'https://cdn.sstatic.net/Sites/math/Img/apple-touch-icon', 'https://ajax.googleapis.com/ajax/libs/jquery/1.12.4/jquery.min.js', 'https://cdn.sstatic.net/Js/third-party/npm/', 'https://cdn.sstatic.net/Js/stub.en.js?v=98d9f62851ed', 'https://cdn.sstatic.net/Shared/stacks.css?v=85feea4d403d', 'https://cdn.sstatic.net/Sites/math/primary.css?v=61593710227a', 'https://cdn.sstatic.net/Shared/Channels/channels.css?v=a4d77abedec3', 'https://cdn.sstatic.net/Js/third-party/citation-helper.js?v=2591ce444a3f', 'https://cdnjs.cloudflare.com/ajax/libs/mathjax/2.7.5/MathJax.js?config=TeX-AMS_HTML-full', 'https://ajax.googleapis.com/ajax/libs/jqueryui/1.12.0/themes/smoothness/jquery-ui.css', 'https://ajax.googleapis.com/ajax/libs/jqueryui/1.12.0/jquery-ui.min.js', 'https://www.opavote.com/results/', 'https://math.stackexchange.com/help', 'https://math.stackexchange.com/users/signup?ssrc=site_switcher&amp;returnurl=https']\n"
     ]
    }
   ],
   "source": [
    "import re\n",
    "import requests\n",
    "\n",
    "url = \"https://math.stackexchange.com/questions/\" \\\n",
    "      \"411486/understanding-the-singular-value-decomposition-svd\"\n",
    "\n",
    "text = requests.get(url).text\n",
    "\n",
    "#print(text)\n",
    "\n",
    "# write the regex for the domain and path to get the extra point\n",
    "# example of a link: \"https://cdn.sstatic.net/Sites/math/Img/apple-touch-icon.png?v=0ae50baa40ed\"\n",
    "protocol = \"https?://\"\n",
    "domain = \"[\\w\\d\\-\\.]+\\/\"\n",
    "path = \"[/\\w\\-\\.]+\"\n",
    "args = \"(?:\\?[\\w\\=&-_;\\[\\]]+)?\"\n",
    "hashtail = \"(?:#[\\w$%-_;]+)?\"\n",
    "\n",
    "expression = protocol + domain + path + args + hashtail\n",
    "pattern = re.compile(expression)\n",
    "regexp_urls = pattern.findall(text)\n",
    "print(regexp_urls[:20])"
   ]
  },
  {
   "cell_type": "markdown",
   "id": "d2174daf-3ea2-4622-89d2-751aed1e29b9",
   "metadata": {},
   "source": [
    "# Streams and files\n",
    "\n",
    "When you deal with the big files you should take care about the RAM. Today 1GB won't suprise anyone on the desktop, but server machines, which implement crawlers, may be optimized for the resource.\n",
    "\n",
    "Using streams instead of RAM-cached files is a good strategy.\n",
    "\n",
    "- Look for solution here: https://stackoverflow.com/a/16696317\n",
    "- Look for the sample big file here: http://xcal1.vodafone.co.uk/\n",
    "- Read about python memory measurement here: https://pythonspeed.com/articles/measuring-memory-python/"
   ]
  },
  {
   "cell_type": "code",
   "execution_count": 66,
   "id": "c819e5ad-2c3e-43b1-a45c-2c1db556e4d9",
   "metadata": {
    "ExecuteTime": {
     "end_time": "2023-09-04T10:53:30.003355615Z",
     "start_time": "2023-09-04T10:53:29.956769744Z"
    }
   },
   "outputs": [],
   "source": [
    "import psutil, gc\n",
    "\n",
    "\n",
    "def get_mem():\n",
    "    return psutil.Process().memory_info().rss"
   ]
  },
  {
   "cell_type": "code",
   "execution_count": 67,
   "id": "3d45cfdf-661e-47bb-a2c1-336b7d091a53",
   "metadata": {
    "ExecuteTime": {
     "end_time": "2023-09-04T10:53:32.726654197Z",
     "start_time": "2023-09-04T10:53:32.709183413Z"
    }
   },
   "outputs": [],
   "source": [
    "large_file_url = \"http://212.183.159.230/100MB.zip\""
   ]
  },
  {
   "cell_type": "markdown",
   "id": "5c447d2f-383b-4d5e-ad83-67feab474dec",
   "metadata": {},
   "source": [
    "First, download the file as you would do it simple way:"
   ]
  },
  {
   "cell_type": "code",
   "execution_count": 68,
   "id": "77d31dd2-b334-4d77-820e-ed78b81ad5c4",
   "metadata": {
    "ExecuteTime": {
     "end_time": "2023-09-04T10:53:52.680336124Z",
     "start_time": "2023-09-04T10:53:39.538811237Z"
    }
   },
   "outputs": [
    {
     "name": "stdout",
     "output_type": "stream",
     "text": [
      "Resident set size: 86278144\n",
      "Resident set size: 190570496\n",
      "Resident set size: 190570496\n",
      "Resident set size: 85708800\n"
     ]
    }
   ],
   "source": [
    "gc.collect()\n",
    "print(\"Resident set size:\", get_mem())\n",
    "data = requests.get(large_file_url).content\n",
    "print(\"Resident set size:\", get_mem())\n",
    "\n",
    "with open('100-RAM', 'wb') as f:\n",
    "    f.write(data)\n",
    "\n",
    "print(\"Resident set size:\", get_mem())\n",
    "data = None\n",
    "gc.collect()\n",
    "print(\"Resident set size:\", get_mem())"
   ]
  },
  {
   "cell_type": "markdown",
   "id": "05ad622c-6821-467d-8f9d-6269fed14097",
   "metadata": {},
   "source": [
    "And then use the streaming mode of the `requests` library."
   ]
  },
  {
   "cell_type": "markdown",
   "id": "5bbb407e",
   "metadata": {},
   "source": [
    "\\# hint: If you have the request open as r such as:\n",
    "```\n",
    "with requests.get(url, stream=True) as r:\n",
    "```\n",
    "You can use the line:\n",
    "```\n",
    "shutil.copyfileobj(r.raw, f)\n",
    "```\n",
    "to write data on a new file in steam instead of doing it in one instance\n",
    "\n",
    "\n",
    "(Don't fotget to check if the request is a vliad request!)\n"
   ]
  },
  {
   "cell_type": "code",
   "execution_count": 82,
   "id": "0f20b4eb-a60c-4be1-910e-c029bdf4cb2c",
   "metadata": {
    "ExecuteTime": {
     "end_time": "2023-09-04T11:09:34.113982483Z",
     "start_time": "2023-09-04T11:09:22.846745112Z"
    }
   },
   "outputs": [
    {
     "name": "stdout",
     "output_type": "stream",
     "text": [
      "Resident set size: 111181824\n",
      "Resident set size: 111181824\n"
     ]
    }
   ],
   "source": [
    "import requests\n",
    "import shutil\n",
    "\n",
    "\n",
    "def download_file(url, path):\n",
    "    with requests.get(url, stream=True) as r:\n",
    "        r.raise_for_status()\n",
    "        with open(path, 'wb') as f:\n",
    "            shutil.copyfileobj(r.raw, f)\n",
    "\n",
    "\n",
    "gc.collect()\n",
    "print(\"Resident set size:\", get_mem())\n",
    "download_file(large_file_url, \"100-stream\")\n",
    "print(\"Resident set size:\", get_mem())"
   ]
  },
  {
   "cell_type": "markdown",
   "id": "b02814d2-da81-40c6-baa2-a1453626df3a",
   "metadata": {},
   "source": [
    "# BeautifulSoup\n",
    "\n",
    "Plain text HTML is a mixture of content, markup, and code. Extracting structure, or URLs, or plain text might be tricky with regular expressions. \n",
    "\n",
    "Building a DOM model is slow, but may save a lot of code and keep you from mistakes.\n",
    "\n",
    "## Extract all sentences\n",
    "For indexing and semantic analysis we use different granularity. Often sentence is a good choice. "
   ]
  },
  {
   "cell_type": "code",
   "execution_count": 71,
   "id": "bbef17cc",
   "metadata": {
    "ExecuteTime": {
     "end_time": "2023-09-04T11:00:56.134039294Z",
     "start_time": "2023-09-04T11:00:51.079141284Z"
    }
   },
   "outputs": [
    {
     "name": "stdout",
     "output_type": "stream",
     "text": [
      "Defaulting to user installation because normal site-packages is not writeable\r\n",
      "Collecting nltk\r\n",
      "  Using cached nltk-3.8.1-py3-none-any.whl (1.5 MB)\r\n",
      "Requirement already satisfied: click in /usr/lib/python3/dist-packages (from nltk) (8.0.3)\r\n",
      "Collecting joblib\r\n",
      "  Using cached joblib-1.3.2-py3-none-any.whl (302 kB)\r\n",
      "Collecting regex>=2021.8.3\r\n",
      "  Using cached regex-2023.8.8-cp310-cp310-manylinux_2_17_x86_64.manylinux2014_x86_64.whl (771 kB)\r\n",
      "Collecting tqdm\r\n",
      "  Using cached tqdm-4.66.1-py3-none-any.whl (78 kB)\r\n",
      "Installing collected packages: tqdm, regex, joblib, nltk\r\n",
      "Successfully installed joblib-1.3.2 nltk-3.8.1 regex-2023.8.8 tqdm-4.66.1\r\n"
     ]
    }
   ],
   "source": [
    "! pip install nltk"
   ]
  },
  {
   "cell_type": "code",
   "execution_count": 72,
   "id": "4b806504",
   "metadata": {
    "ExecuteTime": {
     "end_time": "2023-09-04T11:00:59.489852594Z",
     "start_time": "2023-09-04T11:00:58.924042621Z"
    }
   },
   "outputs": [
    {
     "name": "stderr",
     "output_type": "stream",
     "text": [
      "[nltk_data] Downloading package punkt to /home/kamil/nltk_data...\n",
      "[nltk_data]   Package punkt is already up-to-date!\n"
     ]
    },
    {
     "data": {
      "text/plain": "True"
     },
     "execution_count": 72,
     "metadata": {},
     "output_type": "execute_result"
    }
   ],
   "source": [
    "import nltk\n",
    "\n",
    "nltk.download('punkt')\n"
   ]
  },
  {
   "cell_type": "markdown",
   "id": "5015bf12",
   "metadata": {},
   "source": [
    "\\# Hint you can use the:\n",
    "```\n",
    "tokenize.sent_tokenize(p)\n",
    "```\n",
    "to return the list of sentences in a paragraph"
   ]
  },
  {
   "cell_type": "code",
   "execution_count": 83,
   "id": "186a793c-39ea-463d-8106-b719e4de3e33",
   "metadata": {
    "ExecuteTime": {
     "end_time": "2023-09-04T11:09:53.345374288Z",
     "start_time": "2023-09-04T11:09:52.637849547Z"
    }
   },
   "outputs": [
    {
     "name": "stdout",
     "output_type": "stream",
     "text": [
      "['I know they are square roots of eigenvalues of $\\\\textbf{A}^{\\\\textrm{T}}\\\\textbf{A}$.', \"What I don't understand is the meaning?\", 'I know if I e.g.', 'take covariance matrix and diagonalize it, I end up with eigenvalues (or maximum/unique/?singular?', 'values) in a diagonal matrix representing variances.', 'SVD however is product of three matrices: outer product o, singular values, inner product of A.', \"But I still don't see the meaning of all this.\", '$\\\\endgroup$', '–\\xa0Celdor', 'Jun 5, 2013 at 2:55']\n"
     ]
    }
   ],
   "source": [
    "from bs4 import BeautifulSoup\n",
    "from bs4.element import Comment\n",
    "from nltk import tokenize\n",
    "\n",
    "doc_url = \"https://math.stackexchange.com/questions/\" \\\n",
    "          \"411486/understanding-the-singular-value-decomposition-svd\"\n",
    "\n",
    "text = requests.get(doc_url).text\n",
    "dom = BeautifulSoup(text, 'html.parser')  # Specify the parser to avoid any potential warning\n",
    "paragraphs = [p.strip() for p in dom.text.split('\\n') if p.strip()]\n",
    "\n",
    "sents = []\n",
    "for p in paragraphs:\n",
    "    sents += tokenize.sent_tokenize(p)\n",
    "\n",
    "print(sents[90:100])\n"
   ]
  },
  {
   "cell_type": "markdown",
   "id": "8ead20dc-0608-4dde-a34a-3663692c9c6c",
   "metadata": {},
   "source": [
    "# Extract URLs from nodes\n",
    "\n",
    "Be careful with relative links. How would you process them?"
   ]
  },
  {
   "cell_type": "markdown",
   "id": "65ccbcb7",
   "metadata": {},
   "source": [
    "You can use ```userlib.parse``` to merge two links, e.g:\n",
    "\n",
    "```\n",
    "joined_url = urllib.parse.urljoin(url1, url2)\n",
    "```"
   ]
  },
  {
   "cell_type": "code",
   "execution_count": 101,
   "id": "33586e48-d334-4641-9d37-a24894026b86",
   "metadata": {
    "ExecuteTime": {
     "end_time": "2023-09-04T11:19:17.435246986Z",
     "start_time": "2023-09-04T11:19:17.422197526Z"
    }
   },
   "outputs": [
    {
     "data": {
      "text/plain": "['https://math.stackexchange.com/help',\n 'https://math.stackexchange.com/questions/411486/understanding-the-singular-value-decomposition-svd',\n 'https://stackexchange.com/sites#professional',\n 'https://math.stackexchange.com/',\n 'https://math.stackexchange.com/questions/4315564/singular-value-decomposition-of-symmetric-matrix',\n 'https://meta.stackexchange.com/questions/392048/our-design-vision-for-stack-overflow-and-the-stack-exchange-network',\n 'https://math.stackexchange.com/questions/704238/singular-value-decomposition-of-rank-1-matrix',\n 'https://stackoverflow.com/legal',\n 'https://math.stackexchange.com/q/4718815',\n 'https://math.stackexchange.com/users/38053/julien']"
     },
     "execution_count": 101,
     "metadata": {},
     "output_type": "execute_result"
    }
   ],
   "source": [
    "import urllib.parse\n",
    "\n",
    "all_hrefs = dom.find_all('a', href=True)\n",
    "all_urls = set()\n",
    "\n",
    "for a in all_hrefs:\n",
    "    url = a['href']\n",
    "    if url[0] == '/':\n",
    "        url = urllib.parse.urljoin(doc_url, url)\n",
    "    all_urls.add(url)\n",
    "\n",
    "all_urls = list(all_urls)\n",
    "all_urls[:10]"
   ]
  },
  {
   "cell_type": "markdown",
   "id": "f9951d22-ec99-4d13-ad47-38d35d388827",
   "metadata": {},
   "source": [
    "Discuss the next result:"
   ]
  },
  {
   "cell_type": "code",
   "execution_count": 102,
   "id": "ec65f900-3a74-4664-8b38-301f7c292649",
   "metadata": {
    "ExecuteTime": {
     "end_time": "2023-09-04T11:19:53.147050059Z",
     "start_time": "2023-09-04T11:19:53.099870872Z"
    }
   },
   "outputs": [
    {
     "name": "stdout",
     "output_type": "stream",
     "text": [
      "|DOM ∩ REGX| = 41\n",
      "|DOM \\ REGX| = 98\n",
      "|REGX \\ DOM| = 59\n"
     ]
    }
   ],
   "source": [
    "print(\"|DOM ∩ REGX| =\", len(set(all_urls) & set(regexp_urls)))\n",
    "print(\"|DOM \\ REGX| =\", len(set(all_urls) - set(regexp_urls)))\n",
    "print(\"|REGX \\ DOM| =\", len(set(regexp_urls) - set(all_urls)))"
   ]
  },
  {
   "cell_type": "markdown",
   "id": "9a6bb8ed-9a9b-44db-bb97-9ef6cfe69b97",
   "metadata": {},
   "source": [
    "# Unique file name\n",
    "\n",
    "Please, never try to convert a domain (`google.com`), or a path component (`/index.php`) into a filename. They are not unique!\n",
    "\n",
    "Also, better not to try to substitute sensitive symbols of the full URL (`/:`...) -- you will definitely forget one. Also, you may easily overflow file name.\n",
    "\n",
    "Nice way is to use hash strings with fixed length and character set. Compute hash strings from the previous list."
   ]
  },
  {
   "cell_type": "code",
   "execution_count": 105,
   "id": "83ab186e-d4e0-4612-a4f4-be7eadae4d47",
   "metadata": {
    "ExecuteTime": {
     "end_time": "2023-09-04T11:21:32.812269897Z",
     "start_time": "2023-09-04T11:21:32.770479114Z"
    }
   },
   "outputs": [
    {
     "name": "stdout",
     "output_type": "stream",
     "text": [
      "a5cc359892fa656ce65a1c7c20ac57afa4c692a7d8de3b3d7d3990d2185baabf https://math.st...change.com/help\n",
      "528f2428d8cb51fcfff1ae391819ad45c852ec58b2a708462a2c28d57bc7f60d https://math.st...composition-svd\n",
      "5127882c52094af9fa7263d26ad5a3996575432df85b4a84477092d229eac028 https://stackex...es#professional\n",
      "2a5bd98544149d360b5bab831c4a1493e13c57a6d8a932d6033a26320ca1a60b https://math.st...ckexchange.com/\n",
      "b21503e2b4d457ce8af62b0eced5b4133e0a102d212911c304c6ce8242900305 https://math.st...ymmetric-matrix\n",
      "dde05676d2e73238d6b1c2c9688f47d7a3e4931e81e7ffcecb3c66fac918c001 https://meta.st...xchange-network\n",
      "6d8f4231171c22462edc7a79e7d45b8aa6c283915b5991fd7eec545c0f1ca2c3 https://math.st...f-rank-1-matrix\n",
      "907f1a66da444e9f511881e242aa45743da3c9b622e99a4a4c266c1979b6d411 https://stackov...rflow.com/legal\n",
      "60825c068c1b5d5399ec11393a5b94aa0cd4ca0f22f3130efc3dd571a3050535 https://math.st...e.com/q/4718815\n",
      "dac689438e0c51a7bf22d0bd87bfe8b1e98a05274131dadae078495bd0e1dad8 https://math.st...rs/38053/julien\n",
      "d700f665fb66687f75173abd8c1af1f059db2cd20bcd11e7bd418ab0a54b6999 https://scicomp...lvers-iterative\n",
      "a1984dad0052b3ddcf64cfc1f16139e10eb61c5b2042ec544408eea007d7fa49 https://math.st...e.com/q/3752209\n",
      "3f00af0667216f619e94112a9b729c91133a085ec4360c3bfd70cb8d9cf07249 https://matterm...-and-simulation\n",
      "05c11b61e2f89f0e5a4ee3662ce0aaff39ec8008ed3128d0e32e8ac34180048e https://math.st...ackexchange.com\n",
      "55bf698ed7ca718a0cc9d2a4ff432680ad5f8303a58724b618a5791064150f8d https://physics...consistent-with\n",
      "da553583ff2cb3f206e7deaa6ffaaf86b33f4015ec6644931892afdc8969f339 https://www.hea...FM_figures.html\n",
      "ea991d128dac3668deefab972bca0f41f36e6afb68bbbdf20cd41c62e545c5ea https://stackov...flow.co/talent/\n",
      "53520c23fef7d0d5a4a50c0d15064d17392c5b4b37799c785cec4617f7837919 https://stackex...m/sites#science\n",
      "e0230741f15a19ee5a54131eb67ed71ea3db4e9cde769e631f6862ec5c8f86dc https://stackex.../sites#business\n",
      "c08cd65df84ce02432a6987a117b7be4fc2082318049311d67219eabf58a9048 http://stats.st...d/179042#179042\n"
     ]
    }
   ],
   "source": [
    "import hashlib\n",
    "\n",
    "for url in all_urls[:20]:\n",
    "    s = hashlib.sha256(url.encode()).hexdigest()\n",
    "    print(s, url[:15] + \"...\" + url[-15:])"
   ]
  }
 ],
 "metadata": {
  "kernelspec": {
   "display_name": "Python 3",
   "language": "python",
   "name": "python3"
  },
  "language_info": {
   "codemirror_mode": {
    "name": "ipython",
    "version": 3
   },
   "file_extension": ".py",
   "mimetype": "text/x-python",
   "name": "python",
   "nbconvert_exporter": "python",
   "pygments_lexer": "ipython3",
   "version": "3.10.12"
  }
 },
 "nbformat": 4,
 "nbformat_minor": 5
}
